{
 "cells": [
  {
   "cell_type": "markdown",
   "id": "8932bd3f-7f59-4720-b2de-47000682c6c3",
   "metadata": {},
   "source": [
    "##### Problem statement\n",
    "\n",
    "you have been provided with a dataset containing key demographic and finanacial details of \n",
    "bank customers.\n",
    "Your goal is to:\n",
    "* analyze the dataset to gain insights into customer behaviour, financial standing, \n",
    "  and engagement patterns.\n",
    "* uncover valuable insights for the bank's decision making process\n",
    "* identify trends and patterns in customer engagement\n",
    "* highlighting potential areas for business improvement\n",
    "\n",
    "*Objectives*\n",
    "* Get sales data\n",
    "* Examine and profile\n",
    "* Prepare for visualization\n",
    "* Draw conclusions and recommendations\n"
   ]
  },
  {
   "cell_type": "code",
   "execution_count": 1,
   "id": "b6e5ac3a-2777-419b-b879-38a277627948",
   "metadata": {},
   "outputs": [],
   "source": [
    "import numpy as np\n",
    "import pandas as pd\n",
    "import matplotlib.pyplot as plt\n",
    "import seaborn as sb"
   ]
  },
  {
   "cell_type": "code",
   "execution_count": 2,
   "id": "1bc5e143-b31a-4ee8-b218-b5644dda6fe1",
   "metadata": {},
   "outputs": [],
   "source": [
    "account_df = pd.read_csv('project_datasource/Bank_Churn_Messy.xlsx - Account_Info.csv')\n",
    "customers_df = pd.read_csv('project_datasource/Bank_Churn_Messy.xlsx - Customer_Info.csv')"
   ]
  },
  {
   "cell_type": "markdown",
   "id": "48f0f153-a561-43b4-a625-efca6b507b6e",
   "metadata": {},
   "source": [
    "##### *Data Profiling*"
   ]
  },
  {
   "cell_type": "code",
   "execution_count": 3,
   "id": "660a51d5-6947-4438-8698-d84b042025e6",
   "metadata": {},
   "outputs": [
    {
     "data": {
      "text/html": [
       "<div>\n",
       "<style scoped>\n",
       "    .dataframe tbody tr th:only-of-type {\n",
       "        vertical-align: middle;\n",
       "    }\n",
       "\n",
       "    .dataframe tbody tr th {\n",
       "        vertical-align: top;\n",
       "    }\n",
       "\n",
       "    .dataframe thead th {\n",
       "        text-align: right;\n",
       "    }\n",
       "</style>\n",
       "<table border=\"1\" class=\"dataframe\">\n",
       "  <thead>\n",
       "    <tr style=\"text-align: right;\">\n",
       "      <th></th>\n",
       "      <th>CustomerId</th>\n",
       "      <th>Balance</th>\n",
       "      <th>NumOfProducts</th>\n",
       "      <th>HasCrCard</th>\n",
       "      <th>Tenure</th>\n",
       "      <th>IsActiveMember</th>\n",
       "      <th>Exited</th>\n",
       "    </tr>\n",
       "  </thead>\n",
       "  <tbody>\n",
       "    <tr>\n",
       "      <th>0</th>\n",
       "      <td>15634602</td>\n",
       "      <td>€0.0</td>\n",
       "      <td>1</td>\n",
       "      <td>Yes</td>\n",
       "      <td>2</td>\n",
       "      <td>Yes</td>\n",
       "      <td>1</td>\n",
       "    </tr>\n",
       "    <tr>\n",
       "      <th>1</th>\n",
       "      <td>15634602</td>\n",
       "      <td>€0.0</td>\n",
       "      <td>1</td>\n",
       "      <td>Yes</td>\n",
       "      <td>2</td>\n",
       "      <td>Yes</td>\n",
       "      <td>1</td>\n",
       "    </tr>\n",
       "    <tr>\n",
       "      <th>2</th>\n",
       "      <td>15647311</td>\n",
       "      <td>€83807.86</td>\n",
       "      <td>1</td>\n",
       "      <td>Yes</td>\n",
       "      <td>1</td>\n",
       "      <td>Yes</td>\n",
       "      <td>0</td>\n",
       "    </tr>\n",
       "    <tr>\n",
       "      <th>3</th>\n",
       "      <td>15619304</td>\n",
       "      <td>€159660.8</td>\n",
       "      <td>3</td>\n",
       "      <td>No</td>\n",
       "      <td>8</td>\n",
       "      <td>No</td>\n",
       "      <td>1</td>\n",
       "    </tr>\n",
       "    <tr>\n",
       "      <th>4</th>\n",
       "      <td>15701354</td>\n",
       "      <td>€0.0</td>\n",
       "      <td>2</td>\n",
       "      <td>No</td>\n",
       "      <td>1</td>\n",
       "      <td>No</td>\n",
       "      <td>0</td>\n",
       "    </tr>\n",
       "    <tr>\n",
       "      <th>5</th>\n",
       "      <td>15737888</td>\n",
       "      <td>€125510.82</td>\n",
       "      <td>1</td>\n",
       "      <td>Yes</td>\n",
       "      <td>2</td>\n",
       "      <td>Yes</td>\n",
       "      <td>0</td>\n",
       "    </tr>\n",
       "    <tr>\n",
       "      <th>6</th>\n",
       "      <td>15574012</td>\n",
       "      <td>€113755.78</td>\n",
       "      <td>2</td>\n",
       "      <td>No</td>\n",
       "      <td>8</td>\n",
       "      <td>No</td>\n",
       "      <td>1</td>\n",
       "    </tr>\n",
       "    <tr>\n",
       "      <th>7</th>\n",
       "      <td>15592531</td>\n",
       "      <td>€0.0</td>\n",
       "      <td>2</td>\n",
       "      <td>Yes</td>\n",
       "      <td>7</td>\n",
       "      <td>Yes</td>\n",
       "      <td>0</td>\n",
       "    </tr>\n",
       "    <tr>\n",
       "      <th>8</th>\n",
       "      <td>15656148</td>\n",
       "      <td>€115046.74</td>\n",
       "      <td>4</td>\n",
       "      <td>No</td>\n",
       "      <td>4</td>\n",
       "      <td>No</td>\n",
       "      <td>1</td>\n",
       "    </tr>\n",
       "    <tr>\n",
       "      <th>9</th>\n",
       "      <td>15792365</td>\n",
       "      <td>€142051.07</td>\n",
       "      <td>2</td>\n",
       "      <td>Yes</td>\n",
       "      <td>4</td>\n",
       "      <td>Yes</td>\n",
       "      <td>0</td>\n",
       "    </tr>\n",
       "  </tbody>\n",
       "</table>\n",
       "</div>"
      ],
      "text/plain": [
       "   CustomerId     Balance  NumOfProducts HasCrCard  Tenure IsActiveMember  \\\n",
       "0    15634602        €0.0              1       Yes       2            Yes   \n",
       "1    15634602        €0.0              1       Yes       2            Yes   \n",
       "2    15647311   €83807.86              1       Yes       1            Yes   \n",
       "3    15619304   €159660.8              3        No       8             No   \n",
       "4    15701354        €0.0              2        No       1             No   \n",
       "5    15737888  €125510.82              1       Yes       2            Yes   \n",
       "6    15574012  €113755.78              2        No       8             No   \n",
       "7    15592531        €0.0              2       Yes       7            Yes   \n",
       "8    15656148  €115046.74              4        No       4             No   \n",
       "9    15792365  €142051.07              2       Yes       4            Yes   \n",
       "\n",
       "   Exited  \n",
       "0       1  \n",
       "1       1  \n",
       "2       0  \n",
       "3       1  \n",
       "4       0  \n",
       "5       0  \n",
       "6       1  \n",
       "7       0  \n",
       "8       1  \n",
       "9       0  "
      ]
     },
     "execution_count": 3,
     "metadata": {},
     "output_type": "execute_result"
    }
   ],
   "source": [
    "account_df.head(10)"
   ]
  },
  {
   "cell_type": "code",
   "execution_count": 4,
   "id": "b76cb551-800a-4231-b4f9-58f8516ed3ec",
   "metadata": {},
   "outputs": [
    {
     "data": {
      "text/html": [
       "<div>\n",
       "<style scoped>\n",
       "    .dataframe tbody tr th:only-of-type {\n",
       "        vertical-align: middle;\n",
       "    }\n",
       "\n",
       "    .dataframe tbody tr th {\n",
       "        vertical-align: top;\n",
       "    }\n",
       "\n",
       "    .dataframe thead th {\n",
       "        text-align: right;\n",
       "    }\n",
       "</style>\n",
       "<table border=\"1\" class=\"dataframe\">\n",
       "  <thead>\n",
       "    <tr style=\"text-align: right;\">\n",
       "      <th></th>\n",
       "      <th>CustomerId</th>\n",
       "      <th>Surname</th>\n",
       "      <th>CreditScore</th>\n",
       "      <th>Geography</th>\n",
       "      <th>Gender</th>\n",
       "      <th>Age</th>\n",
       "      <th>Tenure</th>\n",
       "      <th>EstimatedSalary</th>\n",
       "    </tr>\n",
       "  </thead>\n",
       "  <tbody>\n",
       "    <tr>\n",
       "      <th>0</th>\n",
       "      <td>15634602</td>\n",
       "      <td>Hargrave</td>\n",
       "      <td>619</td>\n",
       "      <td>FRA</td>\n",
       "      <td>Female</td>\n",
       "      <td>42.0</td>\n",
       "      <td>2</td>\n",
       "      <td>€101348.88</td>\n",
       "    </tr>\n",
       "    <tr>\n",
       "      <th>1</th>\n",
       "      <td>15647311</td>\n",
       "      <td>Hill</td>\n",
       "      <td>608</td>\n",
       "      <td>Spain</td>\n",
       "      <td>Female</td>\n",
       "      <td>41.0</td>\n",
       "      <td>1</td>\n",
       "      <td>€112542.58</td>\n",
       "    </tr>\n",
       "    <tr>\n",
       "      <th>2</th>\n",
       "      <td>15619304</td>\n",
       "      <td>Onio</td>\n",
       "      <td>502</td>\n",
       "      <td>French</td>\n",
       "      <td>Female</td>\n",
       "      <td>42.0</td>\n",
       "      <td>8</td>\n",
       "      <td>€113931.57</td>\n",
       "    </tr>\n",
       "    <tr>\n",
       "      <th>3</th>\n",
       "      <td>15701354</td>\n",
       "      <td>Boni</td>\n",
       "      <td>699</td>\n",
       "      <td>FRA</td>\n",
       "      <td>Female</td>\n",
       "      <td>39.0</td>\n",
       "      <td>1</td>\n",
       "      <td>€93826.63</td>\n",
       "    </tr>\n",
       "    <tr>\n",
       "      <th>4</th>\n",
       "      <td>15737888</td>\n",
       "      <td>Mitchell</td>\n",
       "      <td>850</td>\n",
       "      <td>Spain</td>\n",
       "      <td>Female</td>\n",
       "      <td>43.0</td>\n",
       "      <td>2</td>\n",
       "      <td>€79084.1</td>\n",
       "    </tr>\n",
       "    <tr>\n",
       "      <th>5</th>\n",
       "      <td>15574012</td>\n",
       "      <td>Chu</td>\n",
       "      <td>645</td>\n",
       "      <td>Spain</td>\n",
       "      <td>Male</td>\n",
       "      <td>44.0</td>\n",
       "      <td>8</td>\n",
       "      <td>€149756.71</td>\n",
       "    </tr>\n",
       "    <tr>\n",
       "      <th>6</th>\n",
       "      <td>15592531</td>\n",
       "      <td>Bartlett</td>\n",
       "      <td>822</td>\n",
       "      <td>France</td>\n",
       "      <td>Male</td>\n",
       "      <td>50.0</td>\n",
       "      <td>7</td>\n",
       "      <td>€10062.8</td>\n",
       "    </tr>\n",
       "    <tr>\n",
       "      <th>7</th>\n",
       "      <td>15656148</td>\n",
       "      <td>Obinna</td>\n",
       "      <td>376</td>\n",
       "      <td>Germany</td>\n",
       "      <td>Female</td>\n",
       "      <td>29.0</td>\n",
       "      <td>4</td>\n",
       "      <td>€119346.88</td>\n",
       "    </tr>\n",
       "    <tr>\n",
       "      <th>8</th>\n",
       "      <td>15792365</td>\n",
       "      <td>He</td>\n",
       "      <td>501</td>\n",
       "      <td>French</td>\n",
       "      <td>Male</td>\n",
       "      <td>44.0</td>\n",
       "      <td>4</td>\n",
       "      <td>€74940.5</td>\n",
       "    </tr>\n",
       "    <tr>\n",
       "      <th>9</th>\n",
       "      <td>15592389</td>\n",
       "      <td>H?</td>\n",
       "      <td>684</td>\n",
       "      <td>France</td>\n",
       "      <td>Male</td>\n",
       "      <td>27.0</td>\n",
       "      <td>2</td>\n",
       "      <td>€71725.73</td>\n",
       "    </tr>\n",
       "  </tbody>\n",
       "</table>\n",
       "</div>"
      ],
      "text/plain": [
       "   CustomerId   Surname  CreditScore Geography  Gender   Age  Tenure  \\\n",
       "0    15634602  Hargrave          619       FRA  Female  42.0       2   \n",
       "1    15647311      Hill          608     Spain  Female  41.0       1   \n",
       "2    15619304      Onio          502    French  Female  42.0       8   \n",
       "3    15701354      Boni          699       FRA  Female  39.0       1   \n",
       "4    15737888  Mitchell          850     Spain  Female  43.0       2   \n",
       "5    15574012       Chu          645     Spain    Male  44.0       8   \n",
       "6    15592531  Bartlett          822    France    Male  50.0       7   \n",
       "7    15656148    Obinna          376   Germany  Female  29.0       4   \n",
       "8    15792365        He          501    French    Male  44.0       4   \n",
       "9    15592389        H?          684    France    Male  27.0       2   \n",
       "\n",
       "  EstimatedSalary  \n",
       "0      €101348.88  \n",
       "1      €112542.58  \n",
       "2      €113931.57  \n",
       "3       €93826.63  \n",
       "4        €79084.1  \n",
       "5      €149756.71  \n",
       "6        €10062.8  \n",
       "7      €119346.88  \n",
       "8        €74940.5  \n",
       "9       €71725.73  "
      ]
     },
     "execution_count": 4,
     "metadata": {},
     "output_type": "execute_result"
    }
   ],
   "source": [
    "customers_df.head(10)"
   ]
  },
  {
   "cell_type": "code",
   "execution_count": 5,
   "id": "32083aa1-0584-4dfd-bf69-151e2e80f709",
   "metadata": {},
   "outputs": [
    {
     "data": {
      "text/plain": [
       "Index(['CustomerId', 'Surname', 'CreditScore', 'Geography', 'Gender', 'Age',\n",
       "       'Tenure', 'EstimatedSalary'],\n",
       "      dtype='object')"
      ]
     },
     "execution_count": 5,
     "metadata": {},
     "output_type": "execute_result"
    }
   ],
   "source": [
    "customers_df.columns"
   ]
  },
  {
   "cell_type": "code",
   "execution_count": 6,
   "id": "07b7d26f-4818-46e0-a92f-c31ed419d4be",
   "metadata": {},
   "outputs": [
    {
     "data": {
      "text/plain": [
       "Index(['CustomerId', 'Balance', 'NumOfProducts', 'HasCrCard', 'Tenure',\n",
       "       'IsActiveMember', 'Exited'],\n",
       "      dtype='object')"
      ]
     },
     "execution_count": 6,
     "metadata": {},
     "output_type": "execute_result"
    }
   ],
   "source": [
    "account_df.columns"
   ]
  },
  {
   "cell_type": "markdown",
   "id": "8c2df089-ea29-4e3e-9ab3-07bc3ded9c21",
   "metadata": {},
   "source": [
    "*Combining Data*"
   ]
  },
  {
   "cell_type": "code",
   "execution_count": 7,
   "id": "6b852acd-d439-4033-9c2a-66078ce4cb3b",
   "metadata": {},
   "outputs": [
    {
     "data": {
      "text/html": [
       "<div>\n",
       "<style scoped>\n",
       "    .dataframe tbody tr th:only-of-type {\n",
       "        vertical-align: middle;\n",
       "    }\n",
       "\n",
       "    .dataframe tbody tr th {\n",
       "        vertical-align: top;\n",
       "    }\n",
       "\n",
       "    .dataframe thead th {\n",
       "        text-align: right;\n",
       "    }\n",
       "</style>\n",
       "<table border=\"1\" class=\"dataframe\">\n",
       "  <thead>\n",
       "    <tr style=\"text-align: right;\">\n",
       "      <th></th>\n",
       "      <th>CustomerId</th>\n",
       "      <th>Balance</th>\n",
       "      <th>NumOfProducts</th>\n",
       "      <th>HasCrCard</th>\n",
       "      <th>Tenure_x</th>\n",
       "      <th>IsActiveMember</th>\n",
       "      <th>Exited</th>\n",
       "      <th>Surname</th>\n",
       "      <th>CreditScore</th>\n",
       "      <th>Geography</th>\n",
       "      <th>Gender</th>\n",
       "      <th>Age</th>\n",
       "      <th>Tenure_y</th>\n",
       "      <th>EstimatedSalary</th>\n",
       "    </tr>\n",
       "  </thead>\n",
       "  <tbody>\n",
       "    <tr>\n",
       "      <th>0</th>\n",
       "      <td>15634602</td>\n",
       "      <td>€0.0</td>\n",
       "      <td>1</td>\n",
       "      <td>Yes</td>\n",
       "      <td>2</td>\n",
       "      <td>Yes</td>\n",
       "      <td>1</td>\n",
       "      <td>Hargrave</td>\n",
       "      <td>619</td>\n",
       "      <td>FRA</td>\n",
       "      <td>Female</td>\n",
       "      <td>42.0</td>\n",
       "      <td>2</td>\n",
       "      <td>€101348.88</td>\n",
       "    </tr>\n",
       "    <tr>\n",
       "      <th>1</th>\n",
       "      <td>15634602</td>\n",
       "      <td>€0.0</td>\n",
       "      <td>1</td>\n",
       "      <td>Yes</td>\n",
       "      <td>2</td>\n",
       "      <td>Yes</td>\n",
       "      <td>1</td>\n",
       "      <td>Hargrave</td>\n",
       "      <td>619</td>\n",
       "      <td>FRA</td>\n",
       "      <td>Female</td>\n",
       "      <td>42.0</td>\n",
       "      <td>2</td>\n",
       "      <td>€101348.88</td>\n",
       "    </tr>\n",
       "    <tr>\n",
       "      <th>2</th>\n",
       "      <td>15647311</td>\n",
       "      <td>€83807.86</td>\n",
       "      <td>1</td>\n",
       "      <td>Yes</td>\n",
       "      <td>1</td>\n",
       "      <td>Yes</td>\n",
       "      <td>0</td>\n",
       "      <td>Hill</td>\n",
       "      <td>608</td>\n",
       "      <td>Spain</td>\n",
       "      <td>Female</td>\n",
       "      <td>41.0</td>\n",
       "      <td>1</td>\n",
       "      <td>€112542.58</td>\n",
       "    </tr>\n",
       "    <tr>\n",
       "      <th>3</th>\n",
       "      <td>15619304</td>\n",
       "      <td>€159660.8</td>\n",
       "      <td>3</td>\n",
       "      <td>No</td>\n",
       "      <td>8</td>\n",
       "      <td>No</td>\n",
       "      <td>1</td>\n",
       "      <td>Onio</td>\n",
       "      <td>502</td>\n",
       "      <td>French</td>\n",
       "      <td>Female</td>\n",
       "      <td>42.0</td>\n",
       "      <td>8</td>\n",
       "      <td>€113931.57</td>\n",
       "    </tr>\n",
       "    <tr>\n",
       "      <th>4</th>\n",
       "      <td>15701354</td>\n",
       "      <td>€0.0</td>\n",
       "      <td>2</td>\n",
       "      <td>No</td>\n",
       "      <td>1</td>\n",
       "      <td>No</td>\n",
       "      <td>0</td>\n",
       "      <td>Boni</td>\n",
       "      <td>699</td>\n",
       "      <td>FRA</td>\n",
       "      <td>Female</td>\n",
       "      <td>39.0</td>\n",
       "      <td>1</td>\n",
       "      <td>€93826.63</td>\n",
       "    </tr>\n",
       "    <tr>\n",
       "      <th>...</th>\n",
       "      <td>...</td>\n",
       "      <td>...</td>\n",
       "      <td>...</td>\n",
       "      <td>...</td>\n",
       "      <td>...</td>\n",
       "      <td>...</td>\n",
       "      <td>...</td>\n",
       "      <td>...</td>\n",
       "      <td>...</td>\n",
       "      <td>...</td>\n",
       "      <td>...</td>\n",
       "      <td>...</td>\n",
       "      <td>...</td>\n",
       "      <td>...</td>\n",
       "    </tr>\n",
       "    <tr>\n",
       "      <th>9999</th>\n",
       "      <td>15682355</td>\n",
       "      <td>€75075.31</td>\n",
       "      <td>2</td>\n",
       "      <td>No</td>\n",
       "      <td>3</td>\n",
       "      <td>No</td>\n",
       "      <td>1</td>\n",
       "      <td>Sabbatini</td>\n",
       "      <td>772</td>\n",
       "      <td>Germany</td>\n",
       "      <td>Male</td>\n",
       "      <td>42.0</td>\n",
       "      <td>3</td>\n",
       "      <td>€92888.52</td>\n",
       "    </tr>\n",
       "    <tr>\n",
       "      <th>10000</th>\n",
       "      <td>15628319</td>\n",
       "      <td>€130142.79</td>\n",
       "      <td>1</td>\n",
       "      <td>No</td>\n",
       "      <td>4</td>\n",
       "      <td>No</td>\n",
       "      <td>0</td>\n",
       "      <td>Walker</td>\n",
       "      <td>792</td>\n",
       "      <td>French</td>\n",
       "      <td>Female</td>\n",
       "      <td>28.0</td>\n",
       "      <td>4</td>\n",
       "      <td>€38190.78</td>\n",
       "    </tr>\n",
       "    <tr>\n",
       "      <th>10001</th>\n",
       "      <td>15628319</td>\n",
       "      <td>€130142.79</td>\n",
       "      <td>1</td>\n",
       "      <td>No</td>\n",
       "      <td>4</td>\n",
       "      <td>No</td>\n",
       "      <td>0</td>\n",
       "      <td>Walker</td>\n",
       "      <td>792</td>\n",
       "      <td>French</td>\n",
       "      <td>Female</td>\n",
       "      <td>28.0</td>\n",
       "      <td>4</td>\n",
       "      <td>€38190.78</td>\n",
       "    </tr>\n",
       "    <tr>\n",
       "      <th>10002</th>\n",
       "      <td>15628319</td>\n",
       "      <td>€130142.79</td>\n",
       "      <td>1</td>\n",
       "      <td>No</td>\n",
       "      <td>4</td>\n",
       "      <td>No</td>\n",
       "      <td>0</td>\n",
       "      <td>Walker</td>\n",
       "      <td>792</td>\n",
       "      <td>French</td>\n",
       "      <td>Female</td>\n",
       "      <td>28.0</td>\n",
       "      <td>4</td>\n",
       "      <td>€38190.78</td>\n",
       "    </tr>\n",
       "    <tr>\n",
       "      <th>10003</th>\n",
       "      <td>15628319</td>\n",
       "      <td>€130142.79</td>\n",
       "      <td>1</td>\n",
       "      <td>No</td>\n",
       "      <td>4</td>\n",
       "      <td>No</td>\n",
       "      <td>0</td>\n",
       "      <td>Walker</td>\n",
       "      <td>792</td>\n",
       "      <td>French</td>\n",
       "      <td>Female</td>\n",
       "      <td>28.0</td>\n",
       "      <td>4</td>\n",
       "      <td>€38190.78</td>\n",
       "    </tr>\n",
       "  </tbody>\n",
       "</table>\n",
       "<p>10004 rows × 14 columns</p>\n",
       "</div>"
      ],
      "text/plain": [
       "       CustomerId     Balance  NumOfProducts HasCrCard  Tenure_x  \\\n",
       "0        15634602        €0.0              1       Yes         2   \n",
       "1        15634602        €0.0              1       Yes         2   \n",
       "2        15647311   €83807.86              1       Yes         1   \n",
       "3        15619304   €159660.8              3        No         8   \n",
       "4        15701354        €0.0              2        No         1   \n",
       "...           ...         ...            ...       ...       ...   \n",
       "9999     15682355   €75075.31              2        No         3   \n",
       "10000    15628319  €130142.79              1        No         4   \n",
       "10001    15628319  €130142.79              1        No         4   \n",
       "10002    15628319  €130142.79              1        No         4   \n",
       "10003    15628319  €130142.79              1        No         4   \n",
       "\n",
       "      IsActiveMember  Exited    Surname  CreditScore Geography  Gender   Age  \\\n",
       "0                Yes       1   Hargrave          619       FRA  Female  42.0   \n",
       "1                Yes       1   Hargrave          619       FRA  Female  42.0   \n",
       "2                Yes       0       Hill          608     Spain  Female  41.0   \n",
       "3                 No       1       Onio          502    French  Female  42.0   \n",
       "4                 No       0       Boni          699       FRA  Female  39.0   \n",
       "...              ...     ...        ...          ...       ...     ...   ...   \n",
       "9999              No       1  Sabbatini          772   Germany    Male  42.0   \n",
       "10000             No       0     Walker          792    French  Female  28.0   \n",
       "10001             No       0     Walker          792    French  Female  28.0   \n",
       "10002             No       0     Walker          792    French  Female  28.0   \n",
       "10003             No       0     Walker          792    French  Female  28.0   \n",
       "\n",
       "       Tenure_y EstimatedSalary  \n",
       "0             2      €101348.88  \n",
       "1             2      €101348.88  \n",
       "2             1      €112542.58  \n",
       "3             8      €113931.57  \n",
       "4             1       €93826.63  \n",
       "...         ...             ...  \n",
       "9999          3       €92888.52  \n",
       "10000         4       €38190.78  \n",
       "10001         4       €38190.78  \n",
       "10002         4       €38190.78  \n",
       "10003         4       €38190.78  \n",
       "\n",
       "[10004 rows x 14 columns]"
      ]
     },
     "execution_count": 7,
     "metadata": {},
     "output_type": "execute_result"
    }
   ],
   "source": [
    "comb_df = pd.merge(account_df, customers_df,  how = 'right', left_on = 'CustomerId', right_on = 'CustomerId')\n",
    "comb_df"
   ]
  },
  {
   "cell_type": "code",
   "execution_count": 8,
   "id": "650dd586-58c1-43a5-b55c-1ee47b3795a7",
   "metadata": {},
   "outputs": [
    {
     "data": {
      "text/plain": [
       "(10004, 14)"
      ]
     },
     "execution_count": 8,
     "metadata": {},
     "output_type": "execute_result"
    }
   ],
   "source": [
    "comb_df.shape"
   ]
  },
  {
   "cell_type": "code",
   "execution_count": 9,
   "id": "c4066150-9e3c-4995-80c6-e18c7e9a77cc",
   "metadata": {},
   "outputs": [
    {
     "data": {
      "text/plain": [
       "(10002, 7)"
      ]
     },
     "execution_count": 9,
     "metadata": {},
     "output_type": "execute_result"
    }
   ],
   "source": [
    "account_df.shape"
   ]
  },
  {
   "cell_type": "code",
   "execution_count": 12,
   "id": "5f6c9991-a419-40b5-afdc-c697db9c893a",
   "metadata": {},
   "outputs": [
    {
     "data": {
      "text/plain": [
       "(10001, 8)"
      ]
     },
     "execution_count": 12,
     "metadata": {},
     "output_type": "execute_result"
    }
   ],
   "source": [
    "customers_df.shape"
   ]
  },
  {
   "cell_type": "code",
   "execution_count": 13,
   "id": "5681550a-8ab8-4e6b-8a3e-3e4f2d353b76",
   "metadata": {},
   "outputs": [
    {
     "name": "stdout",
     "output_type": "stream",
     "text": [
      "<class 'pandas.core.frame.DataFrame'>\n",
      "RangeIndex: 10004 entries, 0 to 10003\n",
      "Data columns (total 14 columns):\n",
      " #   Column           Non-Null Count  Dtype  \n",
      "---  ------           --------------  -----  \n",
      " 0   CustomerId       10004 non-null  int64  \n",
      " 1   Balance          10004 non-null  object \n",
      " 2   NumOfProducts    10004 non-null  int64  \n",
      " 3   HasCrCard        10004 non-null  object \n",
      " 4   Tenure_x         10004 non-null  int64  \n",
      " 5   IsActiveMember   10004 non-null  object \n",
      " 6   Exited           10004 non-null  int64  \n",
      " 7   Surname          10001 non-null  object \n",
      " 8   CreditScore      10004 non-null  int64  \n",
      " 9   Geography        10004 non-null  object \n",
      " 10  Gender           10004 non-null  object \n",
      " 11  Age              10001 non-null  float64\n",
      " 12  Tenure_y         10004 non-null  int64  \n",
      " 13  EstimatedSalary  10004 non-null  object \n",
      "dtypes: float64(1), int64(6), object(7)\n",
      "memory usage: 1.1+ MB\n"
     ]
    }
   ],
   "source": [
    "comb_df.info()"
   ]
  },
  {
   "cell_type": "code",
   "execution_count": 14,
   "id": "4df3094b-80f3-43fd-9e53-3e0ffee0b429",
   "metadata": {},
   "outputs": [],
   "source": [
    "comb_df.rename(columns = {\n",
    "    'IsActiveMember' : 'Active Member',\n",
    "    'HasCrCard' : 'Credit Card Holder'\n",
    "}, inplace=True)"
   ]
  },
  {
   "cell_type": "code",
   "execution_count": 15,
   "id": "ffe6ef99-5c2c-40e4-98b7-df44e8c06ac3",
   "metadata": {},
   "outputs": [
    {
     "data": {
      "text/html": [
       "<div>\n",
       "<style scoped>\n",
       "    .dataframe tbody tr th:only-of-type {\n",
       "        vertical-align: middle;\n",
       "    }\n",
       "\n",
       "    .dataframe tbody tr th {\n",
       "        vertical-align: top;\n",
       "    }\n",
       "\n",
       "    .dataframe thead th {\n",
       "        text-align: right;\n",
       "    }\n",
       "</style>\n",
       "<table border=\"1\" class=\"dataframe\">\n",
       "  <thead>\n",
       "    <tr style=\"text-align: right;\">\n",
       "      <th></th>\n",
       "      <th>CustomerId</th>\n",
       "      <th>NumOfProducts</th>\n",
       "      <th>Tenure_x</th>\n",
       "      <th>Exited</th>\n",
       "      <th>CreditScore</th>\n",
       "      <th>Age</th>\n",
       "      <th>Tenure_y</th>\n",
       "    </tr>\n",
       "  </thead>\n",
       "  <tbody>\n",
       "    <tr>\n",
       "      <th>count</th>\n",
       "      <td>1.000400e+04</td>\n",
       "      <td>10004.000000</td>\n",
       "      <td>10004.000000</td>\n",
       "      <td>10004.000000</td>\n",
       "      <td>10004.000000</td>\n",
       "      <td>10001.000000</td>\n",
       "      <td>10004.000000</td>\n",
       "    </tr>\n",
       "    <tr>\n",
       "      <th>mean</th>\n",
       "      <td>1.569092e+07</td>\n",
       "      <td>1.529988</td>\n",
       "      <td>5.012195</td>\n",
       "      <td>0.203719</td>\n",
       "      <td>650.568073</td>\n",
       "      <td>38.919108</td>\n",
       "      <td>5.012195</td>\n",
       "    </tr>\n",
       "    <tr>\n",
       "      <th>std</th>\n",
       "      <td>7.193218e+04</td>\n",
       "      <td>0.581635</td>\n",
       "      <td>2.891806</td>\n",
       "      <td>0.402782</td>\n",
       "      <td>96.665531</td>\n",
       "      <td>10.488725</td>\n",
       "      <td>2.891806</td>\n",
       "    </tr>\n",
       "    <tr>\n",
       "      <th>min</th>\n",
       "      <td>1.556570e+07</td>\n",
       "      <td>1.000000</td>\n",
       "      <td>0.000000</td>\n",
       "      <td>0.000000</td>\n",
       "      <td>350.000000</td>\n",
       "      <td>18.000000</td>\n",
       "      <td>0.000000</td>\n",
       "    </tr>\n",
       "    <tr>\n",
       "      <th>25%</th>\n",
       "      <td>1.562839e+07</td>\n",
       "      <td>1.000000</td>\n",
       "      <td>3.000000</td>\n",
       "      <td>0.000000</td>\n",
       "      <td>584.000000</td>\n",
       "      <td>32.000000</td>\n",
       "      <td>3.000000</td>\n",
       "    </tr>\n",
       "    <tr>\n",
       "      <th>50%</th>\n",
       "      <td>1.569071e+07</td>\n",
       "      <td>1.000000</td>\n",
       "      <td>5.000000</td>\n",
       "      <td>0.000000</td>\n",
       "      <td>652.000000</td>\n",
       "      <td>37.000000</td>\n",
       "      <td>5.000000</td>\n",
       "    </tr>\n",
       "    <tr>\n",
       "      <th>75%</th>\n",
       "      <td>1.575322e+07</td>\n",
       "      <td>2.000000</td>\n",
       "      <td>7.000000</td>\n",
       "      <td>0.000000</td>\n",
       "      <td>718.000000</td>\n",
       "      <td>44.000000</td>\n",
       "      <td>7.000000</td>\n",
       "    </tr>\n",
       "    <tr>\n",
       "      <th>max</th>\n",
       "      <td>1.581569e+07</td>\n",
       "      <td>4.000000</td>\n",
       "      <td>10.000000</td>\n",
       "      <td>1.000000</td>\n",
       "      <td>850.000000</td>\n",
       "      <td>92.000000</td>\n",
       "      <td>10.000000</td>\n",
       "    </tr>\n",
       "  </tbody>\n",
       "</table>\n",
       "</div>"
      ],
      "text/plain": [
       "         CustomerId  NumOfProducts      Tenure_x        Exited   CreditScore  \\\n",
       "count  1.000400e+04   10004.000000  10004.000000  10004.000000  10004.000000   \n",
       "mean   1.569092e+07       1.529988      5.012195      0.203719    650.568073   \n",
       "std    7.193218e+04       0.581635      2.891806      0.402782     96.665531   \n",
       "min    1.556570e+07       1.000000      0.000000      0.000000    350.000000   \n",
       "25%    1.562839e+07       1.000000      3.000000      0.000000    584.000000   \n",
       "50%    1.569071e+07       1.000000      5.000000      0.000000    652.000000   \n",
       "75%    1.575322e+07       2.000000      7.000000      0.000000    718.000000   \n",
       "max    1.581569e+07       4.000000     10.000000      1.000000    850.000000   \n",
       "\n",
       "                Age      Tenure_y  \n",
       "count  10001.000000  10004.000000  \n",
       "mean      38.919108      5.012195  \n",
       "std       10.488725      2.891806  \n",
       "min       18.000000      0.000000  \n",
       "25%       32.000000      3.000000  \n",
       "50%       37.000000      5.000000  \n",
       "75%       44.000000      7.000000  \n",
       "max       92.000000     10.000000  "
      ]
     },
     "execution_count": 15,
     "metadata": {},
     "output_type": "execute_result"
    }
   ],
   "source": [
    "comb_df.describe()"
   ]
  },
  {
   "cell_type": "markdown",
   "id": "0efa8bbd-bc1a-4531-8410-3743157e7ead",
   "metadata": {},
   "source": [
    "##### Inference from descriptive analysis\n",
    "* Max number of products used by customers is 4 and minimum number is 1 while on the average, customers use at least one or two of the bank's products\n",
    "* The oldest staying customers have stayed for about 10 years while the shortest have been zero years,showing lack of follow through on new customwers.\n",
    "* Customers age ranges from 18years to 92years. "
   ]
  },
  {
   "cell_type": "code",
   "execution_count": 16,
   "id": "1c09d556-106c-43cf-8a9d-50773e9b5d10",
   "metadata": {},
   "outputs": [
    {
     "data": {
      "text/plain": [
       "['Balance',\n",
       " 'Credit Card Holder',\n",
       " 'Active Member',\n",
       " 'Surname',\n",
       " 'Geography',\n",
       " 'Gender',\n",
       " 'EstimatedSalary']"
      ]
     },
     "execution_count": 16,
     "metadata": {},
     "output_type": "execute_result"
    }
   ],
   "source": [
    "cat_col = [col for col in comb_df.select_dtypes(['object']).columns]\n",
    "cat_col"
   ]
  },
  {
   "cell_type": "code",
   "execution_count": 17,
   "id": "05ec47e3-1e16-4a00-ac91-336f476150d0",
   "metadata": {},
   "outputs": [
    {
     "data": {
      "text/plain": [
       "['CustomerId',\n",
       " 'NumOfProducts',\n",
       " 'Tenure_x',\n",
       " 'Exited',\n",
       " 'CreditScore',\n",
       " 'Age',\n",
       " 'Tenure_y']"
      ]
     },
     "execution_count": 17,
     "metadata": {},
     "output_type": "execute_result"
    }
   ],
   "source": [
    "num_col = [col for col in comb_df.select_dtypes(['int64','float64']).columns]\n",
    "num_col"
   ]
  },
  {
   "cell_type": "code",
   "execution_count": 18,
   "id": "8484066d-0508-48bb-bc14-7b3e8246e7dc",
   "metadata": {},
   "outputs": [
    {
     "name": "stdout",
     "output_type": "stream",
     "text": [
      "Balance\n",
      "€0.0          3618\n",
      "€130142.79       4\n",
      "€105473.74       2\n",
      "€130170.82       2\n",
      "€159660.8        1\n",
      "              ... \n",
      "€136596.85       1\n",
      "€81556.89        1\n",
      "€112687.69       1\n",
      "€108698.96       1\n",
      "€148795.17       1\n",
      "Name: count, Length: 6382, dtype: int64\n",
      "-----------------\n",
      "Credit Card Holder\n",
      "Yes    5152\n",
      "No     4852\n",
      "Name: count, dtype: int64\n",
      "-----------------\n",
      "Active Member\n",
      "Yes    5152\n",
      "No     4852\n",
      "Name: count, dtype: int64\n",
      "-----------------\n",
      "Surname\n",
      "Smith       32\n",
      "Walker      31\n",
      "Martin      29\n",
      "Scott       29\n",
      "Brown       26\n",
      "            ..\n",
      "Howey        1\n",
      "Basedow      1\n",
      "Thomsen      1\n",
      "Riddle       1\n",
      "Burbidge     1\n",
      "Name: count, Length: 2932, dtype: int64\n",
      "-----------------\n",
      "Geography\n",
      "Germany    2509\n",
      "Spain      2477\n",
      "France     1741\n",
      "French     1658\n",
      "FRA        1619\n",
      "Name: count, dtype: int64\n",
      "-----------------\n",
      "Gender\n",
      "Male      5457\n",
      "Female    4547\n",
      "Name: count, dtype: int64\n",
      "-----------------\n",
      "EstimatedSalary\n",
      "€38190.78     4\n",
      "-€999999      3\n",
      "€24924.92     2\n",
      "€101348.88    2\n",
      "€79084.1      1\n",
      "             ..\n",
      "€4523.74      1\n",
      "€102195.16    1\n",
      "€60843.09     1\n",
      "€25548.47     1\n",
      "€93112.2      1\n",
      "Name: count, Length: 9997, dtype: int64\n",
      "-----------------\n"
     ]
    }
   ],
   "source": [
    "for col in cat_col:\n",
    "    print(comb_df[col].value_counts())\n",
    "    print('-----------------')"
   ]
  },
  {
   "cell_type": "code",
   "execution_count": 19,
   "id": "00fbca86-07d7-481b-8fe6-bbf3c533b455",
   "metadata": {},
   "outputs": [
    {
     "data": {
      "text/plain": [
       "4"
      ]
     },
     "execution_count": 19,
     "metadata": {},
     "output_type": "execute_result"
    }
   ],
   "source": [
    "comb_df.duplicated().sum()"
   ]
  },
  {
   "cell_type": "code",
   "execution_count": 20,
   "id": "3831b7da-81f2-48fd-b34c-f4fdb6ccc563",
   "metadata": {},
   "outputs": [],
   "source": [
    "comb_df.drop_duplicates(inplace=True)"
   ]
  },
  {
   "cell_type": "code",
   "execution_count": 21,
   "id": "7e47840d-485c-40a7-9bd7-efc3f49c8ff2",
   "metadata": {},
   "outputs": [
    {
     "data": {
      "text/plain": [
       "0"
      ]
     },
     "execution_count": 21,
     "metadata": {},
     "output_type": "execute_result"
    }
   ],
   "source": [
    "comb_df.duplicated().sum()"
   ]
  },
  {
   "cell_type": "code",
   "execution_count": 22,
   "id": "8757c327-c627-44ff-ab63-dc1d1466aa65",
   "metadata": {},
   "outputs": [
    {
     "data": {
      "text/plain": [
       "(10000, 14)"
      ]
     },
     "execution_count": 22,
     "metadata": {},
     "output_type": "execute_result"
    }
   ],
   "source": [
    "comb_df.shape"
   ]
  },
  {
   "cell_type": "code",
   "execution_count": 23,
   "id": "46598733-deef-4674-a9bd-79a1e60a751a",
   "metadata": {},
   "outputs": [
    {
     "data": {
      "text/plain": [
       "CustomerId            0\n",
       "Balance               0\n",
       "NumOfProducts         0\n",
       "Credit Card Holder    0\n",
       "Tenure_x              0\n",
       "Active Member         0\n",
       "Exited                0\n",
       "Surname               3\n",
       "CreditScore           0\n",
       "Geography             0\n",
       "Gender                0\n",
       "Age                   3\n",
       "Tenure_y              0\n",
       "EstimatedSalary       0\n",
       "dtype: int64"
      ]
     },
     "execution_count": 23,
     "metadata": {},
     "output_type": "execute_result"
    }
   ],
   "source": [
    "comb_df.isnull().sum()"
   ]
  },
  {
   "cell_type": "code",
   "execution_count": 24,
   "id": "90c29030-292b-41ca-b66e-c8e84f5dbc50",
   "metadata": {},
   "outputs": [
    {
     "data": {
      "text/plain": [
       "CustomerId            0.00\n",
       "Balance               0.00\n",
       "NumOfProducts         0.00\n",
       "Credit Card Holder    0.00\n",
       "Tenure_x              0.00\n",
       "Active Member         0.00\n",
       "Exited                0.00\n",
       "Surname               0.03\n",
       "CreditScore           0.00\n",
       "Geography             0.00\n",
       "Gender                0.00\n",
       "Age                   0.03\n",
       "Tenure_y              0.00\n",
       "EstimatedSalary       0.00\n",
       "dtype: float64"
      ]
     },
     "execution_count": 24,
     "metadata": {},
     "output_type": "execute_result"
    }
   ],
   "source": [
    "comb_df.isnull().sum() / len(comb_df) * 100"
   ]
  },
  {
   "cell_type": "code",
   "execution_count": 25,
   "id": "823c5032-91e5-4a70-bc73-de6d029cbd35",
   "metadata": {},
   "outputs": [
    {
     "data": {
      "text/html": [
       "<div>\n",
       "<style scoped>\n",
       "    .dataframe tbody tr th:only-of-type {\n",
       "        vertical-align: middle;\n",
       "    }\n",
       "\n",
       "    .dataframe tbody tr th {\n",
       "        vertical-align: top;\n",
       "    }\n",
       "\n",
       "    .dataframe thead th {\n",
       "        text-align: right;\n",
       "    }\n",
       "</style>\n",
       "<table border=\"1\" class=\"dataframe\">\n",
       "  <thead>\n",
       "    <tr style=\"text-align: right;\">\n",
       "      <th></th>\n",
       "      <th>CustomerId</th>\n",
       "      <th>Balance</th>\n",
       "      <th>NumOfProducts</th>\n",
       "      <th>Credit Card Holder</th>\n",
       "      <th>Tenure_x</th>\n",
       "      <th>Active Member</th>\n",
       "      <th>Exited</th>\n",
       "      <th>Surname</th>\n",
       "      <th>CreditScore</th>\n",
       "      <th>Geography</th>\n",
       "      <th>Gender</th>\n",
       "      <th>Age</th>\n",
       "      <th>Tenure_y</th>\n",
       "      <th>EstimatedSalary</th>\n",
       "    </tr>\n",
       "  </thead>\n",
       "  <tbody>\n",
       "    <tr>\n",
       "      <th>29</th>\n",
       "      <td>15728693</td>\n",
       "      <td>€141349.43</td>\n",
       "      <td>1</td>\n",
       "      <td>Yes</td>\n",
       "      <td>3</td>\n",
       "      <td>Yes</td>\n",
       "      <td>0</td>\n",
       "      <td>NaN</td>\n",
       "      <td>574</td>\n",
       "      <td>Germany</td>\n",
       "      <td>Female</td>\n",
       "      <td>NaN</td>\n",
       "      <td>3</td>\n",
       "      <td>-€999999</td>\n",
       "    </tr>\n",
       "    <tr>\n",
       "      <th>122</th>\n",
       "      <td>15580203</td>\n",
       "      <td>€120193.42</td>\n",
       "      <td>1</td>\n",
       "      <td>No</td>\n",
       "      <td>6</td>\n",
       "      <td>No</td>\n",
       "      <td>0</td>\n",
       "      <td>NaN</td>\n",
       "      <td>674</td>\n",
       "      <td>Spain</td>\n",
       "      <td>Male</td>\n",
       "      <td>NaN</td>\n",
       "      <td>6</td>\n",
       "      <td>-€999999</td>\n",
       "    </tr>\n",
       "    <tr>\n",
       "      <th>9390</th>\n",
       "      <td>15756954</td>\n",
       "      <td>€0.0</td>\n",
       "      <td>1</td>\n",
       "      <td>Yes</td>\n",
       "      <td>2</td>\n",
       "      <td>Yes</td>\n",
       "      <td>0</td>\n",
       "      <td>NaN</td>\n",
       "      <td>538</td>\n",
       "      <td>France</td>\n",
       "      <td>Female</td>\n",
       "      <td>NaN</td>\n",
       "      <td>2</td>\n",
       "      <td>-€999999</td>\n",
       "    </tr>\n",
       "  </tbody>\n",
       "</table>\n",
       "</div>"
      ],
      "text/plain": [
       "      CustomerId     Balance  NumOfProducts Credit Card Holder  Tenure_x  \\\n",
       "29      15728693  €141349.43              1                Yes         3   \n",
       "122     15580203  €120193.42              1                 No         6   \n",
       "9390    15756954        €0.0              1                Yes         2   \n",
       "\n",
       "     Active Member  Exited Surname  CreditScore Geography  Gender  Age  \\\n",
       "29             Yes       0     NaN          574   Germany  Female  NaN   \n",
       "122             No       0     NaN          674     Spain    Male  NaN   \n",
       "9390           Yes       0     NaN          538    France  Female  NaN   \n",
       "\n",
       "      Tenure_y EstimatedSalary  \n",
       "29           3        -€999999  \n",
       "122          6        -€999999  \n",
       "9390         2        -€999999  "
      ]
     },
     "execution_count": 25,
     "metadata": {},
     "output_type": "execute_result"
    }
   ],
   "source": [
    "comb_df[comb_df['Surname'].isnull()]"
   ]
  },
  {
   "cell_type": "code",
   "execution_count": 27,
   "id": "8fa1d627-08e1-42ba-b209-5b28d662760e",
   "metadata": {},
   "outputs": [
    {
     "data": {
      "text/plain": [
       "0         Hargrave\n",
       "2             Hill\n",
       "3             Onio\n",
       "4             Boni\n",
       "5         Mitchell\n",
       "           ...    \n",
       "9996      Obijiaku\n",
       "9997     Johnstone\n",
       "9998           Liu\n",
       "9999     Sabbatini\n",
       "10000       Walker\n",
       "Name: Surname, Length: 10000, dtype: object"
      ]
     },
     "execution_count": 27,
     "metadata": {},
     "output_type": "execute_result"
    }
   ],
   "source": [
    "comb_df['Surname'] = comb_df['Surname'].fillna('Unknown')\n",
    "comb_df['Surname']\n"
   ]
  },
  {
   "cell_type": "code",
   "execution_count": 28,
   "id": "7d85f38c-f74b-46b4-aae1-50cb0a5b48f7",
   "metadata": {},
   "outputs": [],
   "source": [
    "mean_Age = comb_df['Age'].mean()\n",
    "comb_df['Age'] = comb_df['Age'].fillna(mean_Age)"
   ]
  },
  {
   "cell_type": "code",
   "execution_count": 29,
   "id": "fab7063e-c7c8-486d-bba6-056773a59282",
   "metadata": {},
   "outputs": [
    {
     "data": {
      "text/plain": [
       "0        42.0\n",
       "2        41.0\n",
       "3        42.0\n",
       "4        39.0\n",
       "5        43.0\n",
       "         ... \n",
       "9996     39.0\n",
       "9997     35.0\n",
       "9998     36.0\n",
       "9999     42.0\n",
       "10000    28.0\n",
       "Name: Age, Length: 10000, dtype: float64"
      ]
     },
     "execution_count": 29,
     "metadata": {},
     "output_type": "execute_result"
    }
   ],
   "source": [
    "comb_df['Age']"
   ]
  },
  {
   "cell_type": "code",
   "execution_count": 30,
   "id": "945e27d4-f16c-460f-8f4d-3584bdc67343",
   "metadata": {},
   "outputs": [],
   "source": [
    "comb_df.drop(columns=[\"Tenure_y\"], inplace=True)"
   ]
  },
  {
   "cell_type": "code",
   "execution_count": 31,
   "id": "fdc50bcb-8801-4862-9eeb-c1456156147c",
   "metadata": {},
   "outputs": [],
   "source": [
    "comb_df[\"Balance\"] = comb_df[\"Balance\"].str.replace(\"€\", \"\").str.replace(\",\", \"\").astype(float)"
   ]
  },
  {
   "cell_type": "code",
   "execution_count": 32,
   "id": "b020b1c4-eccf-43cb-995e-7d7e865aecb4",
   "metadata": {},
   "outputs": [],
   "source": [
    "comb_df[\"EstimatedSalary\"] = comb_df[\"EstimatedSalary\"].str.replace(\"€\", \"\").str.replace(\",\", \"\").astype(float)"
   ]
  },
  {
   "cell_type": "code",
   "execution_count": 33,
   "id": "ef6807c5-3d38-4389-a92f-31d168731640",
   "metadata": {},
   "outputs": [
    {
     "data": {
      "text/plain": [
       "Balance            float64\n",
       "EstimatedSalary    float64\n",
       "dtype: object"
      ]
     },
     "execution_count": 33,
     "metadata": {},
     "output_type": "execute_result"
    }
   ],
   "source": [
    "comb_df[[\"Balance\", \"EstimatedSalary\"]].dtypes\n"
   ]
  },
  {
   "cell_type": "code",
   "execution_count": 34,
   "id": "e92a33f2-7608-427d-ab3f-932a38158c82",
   "metadata": {},
   "outputs": [
    {
     "data": {
      "text/html": [
       "<div>\n",
       "<style scoped>\n",
       "    .dataframe tbody tr th:only-of-type {\n",
       "        vertical-align: middle;\n",
       "    }\n",
       "\n",
       "    .dataframe tbody tr th {\n",
       "        vertical-align: top;\n",
       "    }\n",
       "\n",
       "    .dataframe thead th {\n",
       "        text-align: right;\n",
       "    }\n",
       "</style>\n",
       "<table border=\"1\" class=\"dataframe\">\n",
       "  <thead>\n",
       "    <tr style=\"text-align: right;\">\n",
       "      <th></th>\n",
       "      <th>CustomerId</th>\n",
       "      <th>Balance</th>\n",
       "      <th>NumOfProducts</th>\n",
       "      <th>Credit Card Holder</th>\n",
       "      <th>Tenure_x</th>\n",
       "      <th>Active Member</th>\n",
       "      <th>Exited</th>\n",
       "      <th>Surname</th>\n",
       "      <th>CreditScore</th>\n",
       "      <th>Geography</th>\n",
       "      <th>Gender</th>\n",
       "      <th>Age</th>\n",
       "      <th>EstimatedSalary</th>\n",
       "    </tr>\n",
       "  </thead>\n",
       "  <tbody>\n",
       "    <tr>\n",
       "      <th>0</th>\n",
       "      <td>15634602</td>\n",
       "      <td>0.00</td>\n",
       "      <td>1</td>\n",
       "      <td>Yes</td>\n",
       "      <td>2</td>\n",
       "      <td>Yes</td>\n",
       "      <td>1</td>\n",
       "      <td>Hargrave</td>\n",
       "      <td>619</td>\n",
       "      <td>FRA</td>\n",
       "      <td>Female</td>\n",
       "      <td>42.0</td>\n",
       "      <td>101348.88</td>\n",
       "    </tr>\n",
       "    <tr>\n",
       "      <th>2</th>\n",
       "      <td>15647311</td>\n",
       "      <td>83807.86</td>\n",
       "      <td>1</td>\n",
       "      <td>Yes</td>\n",
       "      <td>1</td>\n",
       "      <td>Yes</td>\n",
       "      <td>0</td>\n",
       "      <td>Hill</td>\n",
       "      <td>608</td>\n",
       "      <td>Spain</td>\n",
       "      <td>Female</td>\n",
       "      <td>41.0</td>\n",
       "      <td>112542.58</td>\n",
       "    </tr>\n",
       "    <tr>\n",
       "      <th>3</th>\n",
       "      <td>15619304</td>\n",
       "      <td>159660.80</td>\n",
       "      <td>3</td>\n",
       "      <td>No</td>\n",
       "      <td>8</td>\n",
       "      <td>No</td>\n",
       "      <td>1</td>\n",
       "      <td>Onio</td>\n",
       "      <td>502</td>\n",
       "      <td>French</td>\n",
       "      <td>Female</td>\n",
       "      <td>42.0</td>\n",
       "      <td>113931.57</td>\n",
       "    </tr>\n",
       "    <tr>\n",
       "      <th>4</th>\n",
       "      <td>15701354</td>\n",
       "      <td>0.00</td>\n",
       "      <td>2</td>\n",
       "      <td>No</td>\n",
       "      <td>1</td>\n",
       "      <td>No</td>\n",
       "      <td>0</td>\n",
       "      <td>Boni</td>\n",
       "      <td>699</td>\n",
       "      <td>FRA</td>\n",
       "      <td>Female</td>\n",
       "      <td>39.0</td>\n",
       "      <td>93826.63</td>\n",
       "    </tr>\n",
       "    <tr>\n",
       "      <th>5</th>\n",
       "      <td>15737888</td>\n",
       "      <td>125510.82</td>\n",
       "      <td>1</td>\n",
       "      <td>Yes</td>\n",
       "      <td>2</td>\n",
       "      <td>Yes</td>\n",
       "      <td>0</td>\n",
       "      <td>Mitchell</td>\n",
       "      <td>850</td>\n",
       "      <td>Spain</td>\n",
       "      <td>Female</td>\n",
       "      <td>43.0</td>\n",
       "      <td>79084.10</td>\n",
       "    </tr>\n",
       "    <tr>\n",
       "      <th>6</th>\n",
       "      <td>15574012</td>\n",
       "      <td>113755.78</td>\n",
       "      <td>2</td>\n",
       "      <td>No</td>\n",
       "      <td>8</td>\n",
       "      <td>No</td>\n",
       "      <td>1</td>\n",
       "      <td>Chu</td>\n",
       "      <td>645</td>\n",
       "      <td>Spain</td>\n",
       "      <td>Male</td>\n",
       "      <td>44.0</td>\n",
       "      <td>149756.71</td>\n",
       "    </tr>\n",
       "    <tr>\n",
       "      <th>7</th>\n",
       "      <td>15592531</td>\n",
       "      <td>0.00</td>\n",
       "      <td>2</td>\n",
       "      <td>Yes</td>\n",
       "      <td>7</td>\n",
       "      <td>Yes</td>\n",
       "      <td>0</td>\n",
       "      <td>Bartlett</td>\n",
       "      <td>822</td>\n",
       "      <td>France</td>\n",
       "      <td>Male</td>\n",
       "      <td>50.0</td>\n",
       "      <td>10062.80</td>\n",
       "    </tr>\n",
       "    <tr>\n",
       "      <th>8</th>\n",
       "      <td>15656148</td>\n",
       "      <td>115046.74</td>\n",
       "      <td>4</td>\n",
       "      <td>No</td>\n",
       "      <td>4</td>\n",
       "      <td>No</td>\n",
       "      <td>1</td>\n",
       "      <td>Obinna</td>\n",
       "      <td>376</td>\n",
       "      <td>Germany</td>\n",
       "      <td>Female</td>\n",
       "      <td>29.0</td>\n",
       "      <td>119346.88</td>\n",
       "    </tr>\n",
       "    <tr>\n",
       "      <th>9</th>\n",
       "      <td>15792365</td>\n",
       "      <td>142051.07</td>\n",
       "      <td>2</td>\n",
       "      <td>Yes</td>\n",
       "      <td>4</td>\n",
       "      <td>Yes</td>\n",
       "      <td>0</td>\n",
       "      <td>He</td>\n",
       "      <td>501</td>\n",
       "      <td>French</td>\n",
       "      <td>Male</td>\n",
       "      <td>44.0</td>\n",
       "      <td>74940.50</td>\n",
       "    </tr>\n",
       "    <tr>\n",
       "      <th>10</th>\n",
       "      <td>15592389</td>\n",
       "      <td>134603.88</td>\n",
       "      <td>1</td>\n",
       "      <td>Yes</td>\n",
       "      <td>2</td>\n",
       "      <td>Yes</td>\n",
       "      <td>0</td>\n",
       "      <td>H?</td>\n",
       "      <td>684</td>\n",
       "      <td>France</td>\n",
       "      <td>Male</td>\n",
       "      <td>27.0</td>\n",
       "      <td>71725.73</td>\n",
       "    </tr>\n",
       "  </tbody>\n",
       "</table>\n",
       "</div>"
      ],
      "text/plain": [
       "    CustomerId    Balance  NumOfProducts Credit Card Holder  Tenure_x  \\\n",
       "0     15634602       0.00              1                Yes         2   \n",
       "2     15647311   83807.86              1                Yes         1   \n",
       "3     15619304  159660.80              3                 No         8   \n",
       "4     15701354       0.00              2                 No         1   \n",
       "5     15737888  125510.82              1                Yes         2   \n",
       "6     15574012  113755.78              2                 No         8   \n",
       "7     15592531       0.00              2                Yes         7   \n",
       "8     15656148  115046.74              4                 No         4   \n",
       "9     15792365  142051.07              2                Yes         4   \n",
       "10    15592389  134603.88              1                Yes         2   \n",
       "\n",
       "   Active Member  Exited   Surname  CreditScore Geography  Gender   Age  \\\n",
       "0            Yes       1  Hargrave          619       FRA  Female  42.0   \n",
       "2            Yes       0      Hill          608     Spain  Female  41.0   \n",
       "3             No       1      Onio          502    French  Female  42.0   \n",
       "4             No       0      Boni          699       FRA  Female  39.0   \n",
       "5            Yes       0  Mitchell          850     Spain  Female  43.0   \n",
       "6             No       1       Chu          645     Spain    Male  44.0   \n",
       "7            Yes       0  Bartlett          822    France    Male  50.0   \n",
       "8             No       1    Obinna          376   Germany  Female  29.0   \n",
       "9            Yes       0        He          501    French    Male  44.0   \n",
       "10           Yes       0        H?          684    France    Male  27.0   \n",
       "\n",
       "    EstimatedSalary  \n",
       "0         101348.88  \n",
       "2         112542.58  \n",
       "3         113931.57  \n",
       "4          93826.63  \n",
       "5          79084.10  \n",
       "6         149756.71  \n",
       "7          10062.80  \n",
       "8         119346.88  \n",
       "9          74940.50  \n",
       "10         71725.73  "
      ]
     },
     "execution_count": 34,
     "metadata": {},
     "output_type": "execute_result"
    }
   ],
   "source": [
    "comb_df.head(10)"
   ]
  },
  {
   "cell_type": "code",
   "execution_count": 35,
   "id": "d5b4bd75-1e0a-45b7-b467-b14f3395a68b",
   "metadata": {},
   "outputs": [
    {
     "data": {
      "text/html": [
       "<div>\n",
       "<style scoped>\n",
       "    .dataframe tbody tr th:only-of-type {\n",
       "        vertical-align: middle;\n",
       "    }\n",
       "\n",
       "    .dataframe tbody tr th {\n",
       "        vertical-align: top;\n",
       "    }\n",
       "\n",
       "    .dataframe thead th {\n",
       "        text-align: right;\n",
       "    }\n",
       "</style>\n",
       "<table border=\"1\" class=\"dataframe\">\n",
       "  <thead>\n",
       "    <tr style=\"text-align: right;\">\n",
       "      <th></th>\n",
       "      <th>Credit Card Holder</th>\n",
       "      <th>Active Member</th>\n",
       "    </tr>\n",
       "  </thead>\n",
       "  <tbody>\n",
       "    <tr>\n",
       "      <th>0</th>\n",
       "      <td>1</td>\n",
       "      <td>1</td>\n",
       "    </tr>\n",
       "    <tr>\n",
       "      <th>2</th>\n",
       "      <td>1</td>\n",
       "      <td>1</td>\n",
       "    </tr>\n",
       "    <tr>\n",
       "      <th>3</th>\n",
       "      <td>0</td>\n",
       "      <td>0</td>\n",
       "    </tr>\n",
       "    <tr>\n",
       "      <th>4</th>\n",
       "      <td>0</td>\n",
       "      <td>0</td>\n",
       "    </tr>\n",
       "    <tr>\n",
       "      <th>5</th>\n",
       "      <td>1</td>\n",
       "      <td>1</td>\n",
       "    </tr>\n",
       "    <tr>\n",
       "      <th>6</th>\n",
       "      <td>0</td>\n",
       "      <td>0</td>\n",
       "    </tr>\n",
       "    <tr>\n",
       "      <th>7</th>\n",
       "      <td>1</td>\n",
       "      <td>1</td>\n",
       "    </tr>\n",
       "    <tr>\n",
       "      <th>8</th>\n",
       "      <td>0</td>\n",
       "      <td>0</td>\n",
       "    </tr>\n",
       "    <tr>\n",
       "      <th>9</th>\n",
       "      <td>1</td>\n",
       "      <td>1</td>\n",
       "    </tr>\n",
       "    <tr>\n",
       "      <th>10</th>\n",
       "      <td>1</td>\n",
       "      <td>1</td>\n",
       "    </tr>\n",
       "  </tbody>\n",
       "</table>\n",
       "</div>"
      ],
      "text/plain": [
       "    Credit Card Holder  Active Member\n",
       "0                    1              1\n",
       "2                    1              1\n",
       "3                    0              0\n",
       "4                    0              0\n",
       "5                    1              1\n",
       "6                    0              0\n",
       "7                    1              1\n",
       "8                    0              0\n",
       "9                    1              1\n",
       "10                   1              1"
      ]
     },
     "execution_count": 35,
     "metadata": {},
     "output_type": "execute_result"
    }
   ],
   "source": [
    "comb_df[\"Credit Card Holder\"] = comb_df[\"Credit Card Holder\"].map({\"Yes\": 1, \"No\": 0})\n",
    "comb_df[\"Active Member\"] = comb_df[\"Active Member\"].map({\"Yes\": 1, \"No\": 0})\n",
    "comb_df[[\"Credit Card Holder\", \"Active Member\"]].head(10)"
   ]
  },
  {
   "cell_type": "code",
   "execution_count": 36,
   "id": "00bd11a0-7e81-488e-b8b3-4436f05c6818",
   "metadata": {},
   "outputs": [],
   "source": [
    "comb_df[\"Geography\"] = comb_df[\"Geography\"].replace({\n",
    "    \"FRA\": \"France\",\n",
    "    \"French\": \"France\",\n",
    "    \"France\": \"France\",\n",
    "    \"Spain\": \"Spain\",\n",
    "    \"ESP\": \"Spain\",\n",
    "    \"Germany\": \"Germany\",\n",
    "    \"GER\": \"Germany\"\n",
    "})\n"
   ]
  },
  {
   "cell_type": "code",
   "execution_count": 37,
   "id": "0fef5dba-f808-4f6a-852b-5bc496b5462a",
   "metadata": {},
   "outputs": [
    {
     "name": "stdout",
     "output_type": "stream",
     "text": [
      "<class 'pandas.core.frame.DataFrame'>\n",
      "Index: 10000 entries, 0 to 10000\n",
      "Data columns (total 13 columns):\n",
      " #   Column              Non-Null Count  Dtype  \n",
      "---  ------              --------------  -----  \n",
      " 0   CustomerId          10000 non-null  int64  \n",
      " 1   Balance             10000 non-null  float64\n",
      " 2   NumOfProducts       10000 non-null  int64  \n",
      " 3   Credit Card Holder  10000 non-null  int64  \n",
      " 4   Tenure_x            10000 non-null  int64  \n",
      " 5   Active Member       10000 non-null  int64  \n",
      " 6   Exited              10000 non-null  int64  \n",
      " 7   Surname             10000 non-null  object \n",
      " 8   CreditScore         10000 non-null  int64  \n",
      " 9   Geography           10000 non-null  object \n",
      " 10  Gender              10000 non-null  object \n",
      " 11  Age                 10000 non-null  float64\n",
      " 12  EstimatedSalary     10000 non-null  float64\n",
      "dtypes: float64(3), int64(7), object(3)\n",
      "memory usage: 1.1+ MB\n"
     ]
    }
   ],
   "source": [
    "comb_df.info()"
   ]
  },
  {
   "cell_type": "code",
   "execution_count": 38,
   "id": "1fa8fbe9-cd6a-4773-836d-ea1e1c2baba3",
   "metadata": {},
   "outputs": [],
   "source": [
    "comb_df.to_csv('Cleaned_Bank_Analysis.csv')"
   ]
  },
  {
   "cell_type": "markdown",
   "id": "acf9a9f6-6345-42ce-a351-b6bd874b6f28",
   "metadata": {},
   "source": [
    "#### Data Preparation"
   ]
  },
  {
   "cell_type": "code",
   "execution_count": 56,
   "id": "bae1e972-4e22-4deb-bc64-0af33c22a328",
   "metadata": {},
   "outputs": [
    {
     "data": {
      "text/plain": [
       "<Figure size 2000x1000 with 0 Axes>"
      ]
     },
     "metadata": {},
     "output_type": "display_data"
    }
   ],
   "source": [
    "#### Helper funtions\n",
    "\n",
    "plt.figure(figsize=(20, 10)).patch.set_facecolor('none')\n",
    "\n",
    "def generate_bar_plot(x, y, xlabel, ylabel):\n",
    "    plt.bar(x,y,color='blue', edgecolor='black')\n",
    "    plt.title('ylabel vs xlabel')\n",
    "    plt.xlabel(xlabel)\n",
    "    plt.ylabel(ylabel)\n",
    "    sb.despine()\n",
    "    plt.show()\n",
    "\n",
    "def generate_line_plot(x, y, xlabel, ylabel, data):\n",
    "    sb.lineplot(x,y,data=data, color='blue')\n",
    "    plt.title('ylabel vs xlabel')\n",
    "    plt.xlabel(xlabel)\n",
    "    plt.ylabel(ylabel)\n",
    "    sb.despine()\n",
    "    plt.show()\n",
    "\n",
    "def generate_histplot(data, x, y, xlabel, ylabel):\n",
    "    sb.histplot(data=data, x=x, y=y, color='blue', bins=10)\n",
    "    plt.title('ylabel vs xlabel')\n",
    "    plt.xlabel(xlabel)\n",
    "    plt.ylabel(ylabel)\n",
    "    sns.despine()\n",
    "    plt.show()\n",
    "\n",
    "plt.figure(figsize=(12, 6))\n",
    "def generate_boxplot(data, x, y, xlabel, ylabel):\n",
    "    sb.boxplot(data=data, x=x, y=y, color='blue')\n",
    "    plt.title('ylabel across xlabel')\n",
    "    plt.xlabel(xlabel)\n",
    "    plt.ylabel(ylabel)\n",
    "    sns.despine()\n",
    "    plt.show()\n",
    "    "
   ]
  },
  {
   "cell_type": "code",
   "execution_count": 44,
   "id": "a5a145a2-4c6d-40c5-8e8b-b9a7e2215c4c",
   "metadata": {},
   "outputs": [
    {
     "data": {
      "text/plain": [
       "0        35-44\n",
       "2        35-44\n",
       "3        35-44\n",
       "4        35-44\n",
       "5        35-44\n",
       "         ...  \n",
       "9996     35-44\n",
       "9997     35-44\n",
       "9998     35-44\n",
       "9999     35-44\n",
       "10000    25-34\n",
       "Name: Age_Bracket, Length: 10000, dtype: category\n",
       "Categories (6, object): ['18-24' < '25-34' < '35-44' < '45-54' < '55-64' < '65+']"
      ]
     },
     "execution_count": 44,
     "metadata": {},
     "output_type": "execute_result"
    }
   ],
   "source": [
    "##### Categorical Groupings\n",
    "\n",
    "# Age Bracket\n",
    "age = [18,25,35,45,55,65,100]\n",
    "age_range = ['18-24','25-34','35-44','45-54','55-64','65+']\n",
    "comb_df['Age_Bracket'] = pd.cut(comb_df['Age'], bins=age, labels=age_range, right=False)\n",
    "comb_df['Age_Bracket'] "
   ]
  },
  {
   "cell_type": "code",
   "execution_count": 45,
   "id": "3d123af8-6caf-49b9-b84b-e8d4b0d373e6",
   "metadata": {},
   "outputs": [
    {
     "data": {
      "text/plain": [
       "0             Fair\n",
       "2             Fair\n",
       "3             Poor\n",
       "4             Good\n",
       "5        Excellent\n",
       "           ...    \n",
       "9996     Very Good\n",
       "9997          Poor\n",
       "9998          Good\n",
       "9999     Very Good\n",
       "10000    Very Good\n",
       "Name: Credit_Score_Bracket, Length: 10000, dtype: category\n",
       "Categories (5, object): ['Poor' < 'Fair' < 'Good' < 'Very Good' < 'Excellent']"
      ]
     },
     "execution_count": 45,
     "metadata": {},
     "output_type": "execute_result"
    }
   ],
   "source": [
    "# Credit Score brackets\n",
    "\n",
    "credit_score = [-1,579,669,739,799,10000]\n",
    "credit_rating = ['Poor','Fair','Good','Very Good','Excellent']\n",
    "comb_df['Credit_Score_Bracket'] = pd.cut(comb_df['CreditScore'], bins=credit_score, labels=credit_rating)\n",
    "comb_df['Credit_Score_Bracket'] "
   ]
  },
  {
   "cell_type": "code",
   "execution_count": 46,
   "id": "e9098a25-e590-4589-bb89-120dcc92b7f8",
   "metadata": {},
   "outputs": [
    {
     "data": {
      "text/plain": [
       "0         2-3\n",
       "2         0-1\n",
       "3        7-10\n",
       "4         0-1\n",
       "5         2-3\n",
       "         ... \n",
       "9996      4-6\n",
       "9997     7-10\n",
       "9998     7-10\n",
       "9999      2-3\n",
       "10000     4-6\n",
       "Name: Tenure_Bracket, Length: 10000, dtype: category\n",
       "Categories (5, object): ['0-1' < '2-3' < '4-6' < '7-10' < '10+']"
      ]
     },
     "execution_count": 46,
     "metadata": {},
     "output_type": "execute_result"
    }
   ],
   "source": [
    "# Tenure Bracket\n",
    "\n",
    "tenure_x = [-1,1,3,6,10,100]\n",
    "tenure_y = [-1,1,3,6,10,100]\n",
    "tenure_range = ['0-1','2-3','4-6','7-10','10+']\n",
    "comb_df['Tenure_Bracket'] = pd.cut(comb_df['Tenure_x'], bins=tenure_x, labels=tenure_range)\n",
    "comb_df['Tenure_Bracket']"
   ]
  },
  {
   "cell_type": "markdown",
   "id": "01b889a5-c314-4a02-bfcd-e5e64f4b6b20",
   "metadata": {},
   "source": [
    "#### Analysis 1\n",
    "\n",
    "How do balances and salaries vary across credit score buckets?"
   ]
  },
  {
   "cell_type": "code",
   "execution_count": 65,
   "id": "5cbbacaa-3a84-4aea-bd12-22e3a1a73585",
   "metadata": {},
   "outputs": [
    {
     "data": {
      "image/png": "[encoded data removed]",
      "text/plain": [
       "<Figure size 1200x600 with 2 Axes>"
      ]
     },
     "metadata": {},
     "output_type": "display_data"
    }
   ],
   "source": [
    "agg = comb_df.groupby('Credit_Score_Bracket', observed=True)[['Balance', 'EstimatedSalary']].mean().reset_index()\n",
    "agg \n",
    "\n",
    "plt.figure(figsize=(12, 6))\n",
    "plt.subplot(1, 2, 1)\n",
    "sb.boxplot(data=comb_df, x='Credit_Score_Bracket', y='Balance')\n",
    "plt.title(\"Balance Distribution across Credit Score Brackets\")\n",
    "\n",
    "\n",
    "plt.subplot(1, 2, 2)\n",
    "sb.boxplot(data=comb_df, x='Credit_Score_Bracket', y='EstimatedSalary')\n",
    "plt.title(\"Salary Distribution across Credit Score Brackets\")\n",
    "sb.despine()\n",
    "plt.show()\n"
   ]
  },
  {
   "cell_type": "markdown",
   "id": "20f346df-90db-46ec-9801-8e22a3dcbcc4",
   "metadata": {},
   "source": [
    "### Insights\n",
    "\n",
    " "
   ]
  },
  {
   "cell_type": "markdown",
   "id": "d328a78e-c4eb-4ff1-b491-c83343e115c5",
   "metadata": {},
   "source": [
    "##### Analysis 2\n",
    "\n",
    "Which age and gender groups dominate across key geographies?"
   ]
  },
  {
   "cell_type": "code",
   "execution_count": 47,
   "id": "77482e69-fd16-4fb2-9951-ef648327e691",
   "metadata": {},
   "outputs": [],
   "source": [
    "top_geos= comb_df['Geography'].value_counts().nlargest(5).index.tolist()"
   ]
  },
  {
   "cell_type": "code",
   "execution_count": 48,
   "id": "1e36f22c-fb65-418e-830a-942a11b360c8",
   "metadata": {},
   "outputs": [
    {
     "data": {
      "image/png": "[encoded data removed]",
      "text/plain": [
       "<Figure size 640x480 with 1 Axes>"
      ]
     },
     "metadata": {},
     "output_type": "display_data"
    }
   ],
   "source": [
    "demography = comb_df[comb_df['Geography'].isin(top_geos)]\\\n",
    "        .groupby(['Geography','Age_Bracket','Gender'], observed=True).size().unstack(fill_value=1)\n",
    "\n",
    "demography.plot(kind=\"bar\", stacked=True)\n",
    "sb.despine()\n"
   ]
  },
  {
   "cell_type": "markdown",
   "id": "34adc48b-e17a-400c-8781-996f7c72ff59",
   "metadata": {},
   "source": [
    "##### Insight; \n",
    "Middle age groups (25–34 and 35–44) generally have larger populations compared to younger (18–24) or older (65+) groups.\n",
    "\n",
    "Spain and Germany have particularly high counts in the 35–44 age group.\n",
    "\n",
    "In most countries and age groups, males (orange) are more numerous than females (blue).\n"
   ]
  },
  {
   "cell_type": "markdown",
   "id": "096cc33a-5d9c-4811-9840-d7759eb46160",
   "metadata": {},
   "source": [
    "## Analysis 3\n",
    "\n",
    "What is the typical product holding and activity level by region?"
   ]
  },
  {
   "cell_type": "code",
   "execution_count": 49,
   "id": "1745ba37-b0ed-4d7c-b447-a8e5db57263a",
   "metadata": {},
   "outputs": [
    {
     "data": {
      "text/plain": [
       "Geography\n",
       "France     5014\n",
       "Germany    2509\n",
       "Spain      2477\n",
       "Name: Active Member, dtype: int64"
      ]
     },
     "execution_count": 49,
     "metadata": {},
     "output_type": "execute_result"
    }
   ],
   "source": [
    "active_geo = comb_df.groupby(\"Geography\")['Active Member'].count()\n",
    "active_geo\n"
   ]
  },
  {
   "cell_type": "code",
   "execution_count": 50,
   "id": "08597cf0-a91e-46ce-b03e-ec8c1437adee",
   "metadata": {},
   "outputs": [
    {
     "data": {
      "image/png": "[encoded data removed]",
      "text/plain": [
       "<Figure size 640x480 with 1 Axes>"
      ]
     },
     "metadata": {},
     "output_type": "display_data"
    }
   ],
   "source": [
    "sb.histplot(comb_df['NumOfProducts'], bins=10)\n",
    "plt.title(\"Geography vs Active Member\")\n",
    "plt.xlabel(\"Active Member\")\n",
    "plt.ylabel(\"Geography\")\n",
    "sb.despine()\n",
    "plt.show()\n"
   ]
  },
  {
   "cell_type": "code",
   "execution_count": null,
   "id": "d254e86c-a185-40eb-903e-4e11ac5f56c2",
   "metadata": {},
   "outputs": [],
   "source": [
    "### Insight; \n",
    "* The chart shows a heavily skewed distribution where the majority fall into categories 1 and 2\n",
    "* This suggests that geography-related representation is stronger among category 1.\n"
   ]
  },
  {
   "cell_type": "markdown",
   "id": "a98b02f0-1f45-4188-84ac-ceb9e340089e",
   "metadata": {},
   "source": [
    "## Analysis 4\n",
    "Which customer segments are most at risk of churn?"
   ]
  },
  {
   "cell_type": "code",
   "execution_count": 51,
   "id": "4e9002f8-3ac6-4268-9785-4846b1bd99b2",
   "metadata": {},
   "outputs": [
    {
     "data": {
      "image/png": "[encoded data removed]",
      "text/plain": [
       "<Figure size 640x480 with 1 Axes>"
      ]
     },
     "metadata": {},
     "output_type": "display_data"
    }
   ],
   "source": [
    "(\n",
    "    comb_df.groupby(\"Credit_Score_Bracket\", observed=True)[\"Exited\"]\n",
    "    .mean()\n",
    "    .sort_values(ascending=False)\n",
    "    .plot(kind=\"bar\"))\n",
    "\n",
    "plt.title(\"Exited vs Credit_Score_Bracket\")\n",
    "plt.xlabel(\"Credit_Score_Bracket\")\n",
    "plt.ylabel(\"Exited\")\n",
    "sb.despine()\n",
    "plt.show()\n",
    "\n",
    "\n"
   ]
  },
  {
   "cell_type": "code",
   "execution_count": 55,
   "id": "92f16ec9-c2af-418a-b254-feca25f3d883",
   "metadata": {},
   "outputs": [
    {
     "data": {
      "image/png": "[encoded data removed]",
      "text/plain": [
       "<Figure size 640x480 with 1 Axes>"
      ]
     },
     "metadata": {},
     "output_type": "display_data"
    }
   ],
   "source": [
    "comb_df.groupby(\"Age_Bracket\", observed= True)['Exited'].mean().plot(kind=\"bar\")\n",
    "(\n",
    "    comb_df.groupby(\"Age_Bracket\", observed=True)[\"Exited\"]\n",
    "    .mean()\n",
    "    .sort_values(ascending=False)\n",
    "    .plot(kind=\"bar\"))\n",
    "\n",
    "plt.title(\"Exited vs Age_Bracket\")\n",
    "plt.xlabel(\"Age_Bracket\")\n",
    "plt.ylabel(\"Exited\")\n",
    "sb.despine()\n",
    "plt.show()"
   ]
  },
  {
   "cell_type": "code",
   "execution_count": 52,
   "id": "9478bdb3-7552-4c2f-865c-03eeff48e539",
   "metadata": {},
   "outputs": [
    {
     "data": {
      "image/png": "[encoded data removed]",
      "text/plain": [
       "<Figure size 640x480 with 1 Axes>"
      ]
     },
     "metadata": {},
     "output_type": "display_data"
    }
   ],
   "source": [
    "(\n",
    "    comb_df.groupby(\"Active Member\", observed=True)[\"Exited\"]\n",
    "    .mean()\n",
    "    .sort_values(ascending=False)\n",
    "    .plot(kind=\"bar\"))\n",
    "\n",
    "plt.title(\"Exited vs Active Member\")\n",
    "plt.xlabel(\"Active Member\")\n",
    "plt.ylabel(\"Exited\")\n",
    "sb.despine()\n",
    "plt.show()"
   ]
  },
  {
   "cell_type": "markdown",
   "id": "3853e56d-993d-48ee-96b1-24d80632a7c2",
   "metadata": {},
   "source": [
    "### Insight\n",
    "* Customers with Poor credit scores have the highest exit rate (above 0.21)\n",
    "* There is a slight downward trend as credit score improves\n",
    "* Higher Exit Rates in Older and Youngest Groups\n",
    "* Customers who are not active members have an exit rate of >25%."
   ]
  },
  {
   "cell_type": "markdown",
   "id": "086903d1-8f9e-4067-ba75-d485f545164f",
   "metadata": {},
   "source": [
    "# Analysis 5\n",
    "\n",
    "How does churn risk change as customer tenure increases?"
   ]
  },
  {
   "cell_type": "code",
   "execution_count": 53,
   "id": "4ea3f401-d1e0-487d-9d6f-bd6c34beae9c",
   "metadata": {},
   "outputs": [
    {
     "data": {
      "image/png": "[encoded data removed]",
      "text/plain": [
       "<Figure size 640x480 with 1 Axes>"
      ]
     },
     "metadata": {},
     "output_type": "display_data"
    }
   ],
   "source": [
    "Bracket = comb_df.groupby(\"Tenure_Bracket\", observed=True)['Exited'].mean()\n",
    "Bracket.plot(kind=\"line\", marker=\"o\")\n",
    "plt.title(\"Plot of how Exited changes with Tenure_Bracket\")\n",
    "plt.xlabel(\"Tenure_Bracket\")\n",
    "plt.ylabel(\"Exited\")\n",
    "sb.despine()\n",
    "plt.show()\n"
   ]
  },
  {
   "cell_type": "markdown",
   "id": "c933b45d-3d1f-4b41-9ce9-dda0d28af680",
   "metadata": {},
   "source": [
    "# Insight\n",
    "\n",
    "* Highest Exit Rate in New Customers (0–1 years).\n",
    "* Customers in the 2–3 year bracket show a significant drop in exit rate (to ~20.2%)"
   ]
  },
  {
   "cell_type": "markdown",
   "id": "3deffd5d-62c4-4fa5-9b69-28e0c96259e9",
   "metadata": {},
   "source": [
    "###### Analysis 6\n",
    "\n",
    "What financial value can be protected by reducing churn in key at-risk groups?"
   ]
  },
  {
   "cell_type": "code",
   "execution_count": 54,
   "id": "cca21a1b-1d87-465e-a0b5-edcc0b31ab7c",
   "metadata": {},
   "outputs": [
    {
     "data": {
      "image/png": "[encoded data removed]",
      "text/plain": [
       "<Figure size 640x480 with 1 Axes>"
      ]
     },
     "metadata": {},
     "output_type": "display_data"
    }
   ],
   "source": [
    "riskgrp = comb_df[\n",
    "    (comb_df['Active Member'] == 0) & (comb_df['NumOfProducts'] <= 1)\n",
    "]\n",
    "risk_value = riskgrp.groupby(\"Credit_Score_Bracket\", observed=True)[\"EstimatedSalary\"].sum().sort_values(ascending=False)\n",
    "risk_value.plot(kind=\"bar\", color=\"blue\", alpha=0.8)\n",
    "\n",
    "plt.title(\"Financials at Risk by Credit Score Bracket\")\n",
    "plt.xlabel(\"Credit Score Bracket\")\n",
    "plt.ylabel(\"EstimatedSalary\")\n",
    "sb.despine()\n",
    "plt.show()"
   ]
  },
  {
   "cell_type": "code",
   "execution_count": null,
   "id": "0fa764bc-f70d-4161-a677-0c0b0daa5a72",
   "metadata": {},
   "outputs": [],
   "source": [
    "#### ### Insights\n",
    "\n",
    "* Customers with Fair credit scores have the highest estimated salaries (around 8).\n",
    "* The chart reveals a disconnect between income and credit score quality,\n",
    "having a higher salary doesn’t guarantee a better credit score, and vice versa. "
   ]
  },
  {
   "cell_type": "markdown",
   "id": "9d5873d4-528e-4768-b3e7-a1aca68ab461",
   "metadata": {},
   "source": [
    "### Recommendations\n",
    "\n",
    "- Prioritize Retention Programs for At-Risk Segments\n",
    "\n",
    "* Launch proactive outreach (calls, tailored offers) for customers with less than one product and inactive status.\n",
    "\n",
    "* Introduce loyalty incentives (fee waivers, bonus interest, bundled products).\n",
    "\n",
    "- Increase Product Adoption\n",
    "\n",
    "* Design cross-sell campaign like credit cards, savings plans etc targeted at single-product customers.\n",
    "\n",
    "* Use personalized recommendations driven by customer profile and needs.\n",
    "\n",
    "- Credit-Based Risk Mitigation\n",
    "\n",
    "* Offer credit-building support (financial literacy programs, small-limit starter products) for customers in the “Poor” and “Fair” credit brackets.\n",
    "\n",
    "* Retaining these groups protects long-term value and improves portfolio quality.\n",
    "\n",
    "- Geographic Targeting\n",
    "\n",
    "* Allocate branch or digital engagement resources in regions with above-average churn or inactivity.\n",
    "\n",
    "* Consider piloting region-specific offers (e.g., community events, localized campaigns).\n",
    "\n"
   ]
  },
  {
   "cell_type": "markdown",
   "id": "56df4a1e-e006-48f7-befd-c6310358cabb",
   "metadata": {},
   "source": [
    "### Summary\n",
    "\n",
    "If churn in inactive, single-product customers can be reduced even modestly, the bank can protect millions in estimated balances, improve product penetration, and stabilize long-term revenue streams."
   ]
  }
 ],
 "metadata": {
  "kernelspec": {
   "display_name": "Python [conda env:base] *",
   "language": "python",
   "name": "conda-base-py"
  },
  "language_info": {
   "codemirror_mode": {
    "name": "ipython",
    "version": 3
   },
   "file_extension": ".py",
   "mimetype": "text/x-python",
   "name": "python",
   "nbconvert_exporter": "python",
   "pygments_lexer": "ipython3",
   "version": "3.12.7"
  }
 },
 "nbformat": 4,
 "nbformat_minor": 5
}
