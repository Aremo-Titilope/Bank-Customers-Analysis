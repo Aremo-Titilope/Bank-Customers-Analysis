{
 "cells": [
  {
   "cell_type": "markdown",
   "id": "8932bd3f-7f59-4720-b2de-47000682c6c3",
   "metadata": {},
   "source": [
    "##### Problem statement\n",
    "\n",
    "you have been provided with a dataset containing key demographic and finanacial details of \n",
    "bank customers.\n",
    "Your goal is to:\n",
    "* analyze the dataset to gain insights into customer behaviour, financial standing, \n",
    "  and engagement patterns.\n",
    "* uncover valuable insights for the bank's decision making process\n",
    "* identify trends and patterns in customer engagement\n",
    "* highlighting potential areas for business improvement\n",
    "\n",
    "*Objectives*\n",
    "* Get sales data\n",
    "* Examine and profile\n",
    "* Prepare for visualization\n",
    "* Draw conclusions and recommendations\n"
   ]
  },
  {
   "cell_type": "code",
   "execution_count": 1,
   "id": "b6e5ac3a-2777-419b-b879-38a277627948",
   "metadata": {},
   "outputs": [],
   "source": [
    "import numpy as np\n",
    "import pandas as pd\n",
    "import matplotlib.pyplot as plt\n",
    "import seaborn as sb"
   ]
  },
  {
   "cell_type": "code",
   "execution_count": 2,
   "id": "1bc5e143-b31a-4ee8-b218-b5644dda6fe1",
   "metadata": {},
   "outputs": [],
   "source": [
    "account_df = pd.read_csv('project_datasource/Bank_Churn_Messy.xlsx - Account_Info.csv')\n",
    "customers_df = pd.read_csv('project_datasource/Bank_Churn_Messy.xlsx - Customer_Info.csv')"
   ]
  },
  {
   "cell_type": "markdown",
   "id": "48f0f153-a561-43b4-a625-efca6b507b6e",
   "metadata": {},
   "source": [
    "##### *Data Profiling*"
   ]
  },
  {
   "cell_type": "code",
   "execution_count": 3,
   "id": "660a51d5-6947-4438-8698-d84b042025e6",
   "metadata": {},
   "outputs": [
    {
     "data": {
      "text/html": [
       "<div>\n",
       "<style scoped>\n",
       "    .dataframe tbody tr th:only-of-type {\n",
       "        vertical-align: middle;\n",
       "    }\n",
       "\n",
       "    .dataframe tbody tr th {\n",
       "        vertical-align: top;\n",
       "    }\n",
       "\n",
       "    .dataframe thead th {\n",
       "        text-align: right;\n",
       "    }\n",
       "</style>\n",
       "<table border=\"1\" class=\"dataframe\">\n",
       "  <thead>\n",
       "    <tr style=\"text-align: right;\">\n",
       "      <th></th>\n",
       "      <th>CustomerId</th>\n",
       "      <th>Balance</th>\n",
       "      <th>NumOfProducts</th>\n",
       "      <th>HasCrCard</th>\n",
       "      <th>Tenure</th>\n",
       "      <th>IsActiveMember</th>\n",
       "      <th>Exited</th>\n",
       "    </tr>\n",
       "  </thead>\n",
       "  <tbody>\n",
       "    <tr>\n",
       "      <th>0</th>\n",
       "      <td>15634602</td>\n",
       "      <td>€0.0</td>\n",
       "      <td>1</td>\n",
       "      <td>Yes</td>\n",
       "      <td>2</td>\n",
       "      <td>Yes</td>\n",
       "      <td>1</td>\n",
       "    </tr>\n",
       "    <tr>\n",
       "      <th>1</th>\n",
       "      <td>15634602</td>\n",
       "      <td>€0.0</td>\n",
       "      <td>1</td>\n",
       "      <td>Yes</td>\n",
       "      <td>2</td>\n",
       "      <td>Yes</td>\n",
       "      <td>1</td>\n",
       "    </tr>\n",
       "    <tr>\n",
       "      <th>2</th>\n",
       "      <td>15647311</td>\n",
       "      <td>€83807.86</td>\n",
       "      <td>1</td>\n",
       "      <td>Yes</td>\n",
       "      <td>1</td>\n",
       "      <td>Yes</td>\n",
       "      <td>0</td>\n",
       "    </tr>\n",
       "    <tr>\n",
       "      <th>3</th>\n",
       "      <td>15619304</td>\n",
       "      <td>€159660.8</td>\n",
       "      <td>3</td>\n",
       "      <td>No</td>\n",
       "      <td>8</td>\n",
       "      <td>No</td>\n",
       "      <td>1</td>\n",
       "    </tr>\n",
       "    <tr>\n",
       "      <th>4</th>\n",
       "      <td>15701354</td>\n",
       "      <td>€0.0</td>\n",
       "      <td>2</td>\n",
       "      <td>No</td>\n",
       "      <td>1</td>\n",
       "      <td>No</td>\n",
       "      <td>0</td>\n",
       "    </tr>\n",
       "    <tr>\n",
       "      <th>5</th>\n",
       "      <td>15737888</td>\n",
       "      <td>€125510.82</td>\n",
       "      <td>1</td>\n",
       "      <td>Yes</td>\n",
       "      <td>2</td>\n",
       "      <td>Yes</td>\n",
       "      <td>0</td>\n",
       "    </tr>\n",
       "    <tr>\n",
       "      <th>6</th>\n",
       "      <td>15574012</td>\n",
       "      <td>€113755.78</td>\n",
       "      <td>2</td>\n",
       "      <td>No</td>\n",
       "      <td>8</td>\n",
       "      <td>No</td>\n",
       "      <td>1</td>\n",
       "    </tr>\n",
       "    <tr>\n",
       "      <th>7</th>\n",
       "      <td>15592531</td>\n",
       "      <td>€0.0</td>\n",
       "      <td>2</td>\n",
       "      <td>Yes</td>\n",
       "      <td>7</td>\n",
       "      <td>Yes</td>\n",
       "      <td>0</td>\n",
       "    </tr>\n",
       "    <tr>\n",
       "      <th>8</th>\n",
       "      <td>15656148</td>\n",
       "      <td>€115046.74</td>\n",
       "      <td>4</td>\n",
       "      <td>No</td>\n",
       "      <td>4</td>\n",
       "      <td>No</td>\n",
       "      <td>1</td>\n",
       "    </tr>\n",
       "    <tr>\n",
       "      <th>9</th>\n",
       "      <td>15792365</td>\n",
       "      <td>€142051.07</td>\n",
       "      <td>2</td>\n",
       "      <td>Yes</td>\n",
       "      <td>4</td>\n",
       "      <td>Yes</td>\n",
       "      <td>0</td>\n",
       "    </tr>\n",
       "  </tbody>\n",
       "</table>\n",
       "</div>"
      ],
      "text/plain": [
       "   CustomerId     Balance  NumOfProducts HasCrCard  Tenure IsActiveMember  \\\n",
       "0    15634602        €0.0              1       Yes       2            Yes   \n",
       "1    15634602        €0.0              1       Yes       2            Yes   \n",
       "2    15647311   €83807.86              1       Yes       1            Yes   \n",
       "3    15619304   €159660.8              3        No       8             No   \n",
       "4    15701354        €0.0              2        No       1             No   \n",
       "5    15737888  €125510.82              1       Yes       2            Yes   \n",
       "6    15574012  €113755.78              2        No       8             No   \n",
       "7    15592531        €0.0              2       Yes       7            Yes   \n",
       "8    15656148  €115046.74              4        No       4             No   \n",
       "9    15792365  €142051.07              2       Yes       4            Yes   \n",
       "\n",
       "   Exited  \n",
       "0       1  \n",
       "1       1  \n",
       "2       0  \n",
       "3       1  \n",
       "4       0  \n",
       "5       0  \n",
       "6       1  \n",
       "7       0  \n",
       "8       1  \n",
       "9       0  "
      ]
     },
     "execution_count": 3,
     "metadata": {},
     "output_type": "execute_result"
    }
   ],
   "source": [
    "account_df.head(10)"
   ]
  },
  {
   "cell_type": "code",
   "execution_count": 4,
   "id": "b76cb551-800a-4231-b4f9-58f8516ed3ec",
   "metadata": {},
   "outputs": [
    {
     "data": {
      "text/html": [
       "<div>\n",
       "<style scoped>\n",
       "    .dataframe tbody tr th:only-of-type {\n",
       "        vertical-align: middle;\n",
       "    }\n",
       "\n",
       "    .dataframe tbody tr th {\n",
       "        vertical-align: top;\n",
       "    }\n",
       "\n",
       "    .dataframe thead th {\n",
       "        text-align: right;\n",
       "    }\n",
       "</style>\n",
       "<table border=\"1\" class=\"dataframe\">\n",
       "  <thead>\n",
       "    <tr style=\"text-align: right;\">\n",
       "      <th></th>\n",
       "      <th>CustomerId</th>\n",
       "      <th>Surname</th>\n",
       "      <th>CreditScore</th>\n",
       "      <th>Geography</th>\n",
       "      <th>Gender</th>\n",
       "      <th>Age</th>\n",
       "      <th>Tenure</th>\n",
       "      <th>EstimatedSalary</th>\n",
       "    </tr>\n",
       "  </thead>\n",
       "  <tbody>\n",
       "    <tr>\n",
       "      <th>0</th>\n",
       "      <td>15634602</td>\n",
       "      <td>Hargrave</td>\n",
       "      <td>619</td>\n",
       "      <td>FRA</td>\n",
       "      <td>Female</td>\n",
       "      <td>42.0</td>\n",
       "      <td>2</td>\n",
       "      <td>€101348.88</td>\n",
       "    </tr>\n",
       "    <tr>\n",
       "      <th>1</th>\n",
       "      <td>15647311</td>\n",
       "      <td>Hill</td>\n",
       "      <td>608</td>\n",
       "      <td>Spain</td>\n",
       "      <td>Female</td>\n",
       "      <td>41.0</td>\n",
       "      <td>1</td>\n",
       "      <td>€112542.58</td>\n",
       "    </tr>\n",
       "    <tr>\n",
       "      <th>2</th>\n",
       "      <td>15619304</td>\n",
       "      <td>Onio</td>\n",
       "      <td>502</td>\n",
       "      <td>French</td>\n",
       "      <td>Female</td>\n",
       "      <td>42.0</td>\n",
       "      <td>8</td>\n",
       "      <td>€113931.57</td>\n",
       "    </tr>\n",
       "    <tr>\n",
       "      <th>3</th>\n",
       "      <td>15701354</td>\n",
       "      <td>Boni</td>\n",
       "      <td>699</td>\n",
       "      <td>FRA</td>\n",
       "      <td>Female</td>\n",
       "      <td>39.0</td>\n",
       "      <td>1</td>\n",
       "      <td>€93826.63</td>\n",
       "    </tr>\n",
       "    <tr>\n",
       "      <th>4</th>\n",
       "      <td>15737888</td>\n",
       "      <td>Mitchell</td>\n",
       "      <td>850</td>\n",
       "      <td>Spain</td>\n",
       "      <td>Female</td>\n",
       "      <td>43.0</td>\n",
       "      <td>2</td>\n",
       "      <td>€79084.1</td>\n",
       "    </tr>\n",
       "    <tr>\n",
       "      <th>5</th>\n",
       "      <td>15574012</td>\n",
       "      <td>Chu</td>\n",
       "      <td>645</td>\n",
       "      <td>Spain</td>\n",
       "      <td>Male</td>\n",
       "      <td>44.0</td>\n",
       "      <td>8</td>\n",
       "      <td>€149756.71</td>\n",
       "    </tr>\n",
       "    <tr>\n",
       "      <th>6</th>\n",
       "      <td>15592531</td>\n",
       "      <td>Bartlett</td>\n",
       "      <td>822</td>\n",
       "      <td>France</td>\n",
       "      <td>Male</td>\n",
       "      <td>50.0</td>\n",
       "      <td>7</td>\n",
       "      <td>€10062.8</td>\n",
       "    </tr>\n",
       "    <tr>\n",
       "      <th>7</th>\n",
       "      <td>15656148</td>\n",
       "      <td>Obinna</td>\n",
       "      <td>376</td>\n",
       "      <td>Germany</td>\n",
       "      <td>Female</td>\n",
       "      <td>29.0</td>\n",
       "      <td>4</td>\n",
       "      <td>€119346.88</td>\n",
       "    </tr>\n",
       "    <tr>\n",
       "      <th>8</th>\n",
       "      <td>15792365</td>\n",
       "      <td>He</td>\n",
       "      <td>501</td>\n",
       "      <td>French</td>\n",
       "      <td>Male</td>\n",
       "      <td>44.0</td>\n",
       "      <td>4</td>\n",
       "      <td>€74940.5</td>\n",
       "    </tr>\n",
       "    <tr>\n",
       "      <th>9</th>\n",
       "      <td>15592389</td>\n",
       "      <td>H?</td>\n",
       "      <td>684</td>\n",
       "      <td>France</td>\n",
       "      <td>Male</td>\n",
       "      <td>27.0</td>\n",
       "      <td>2</td>\n",
       "      <td>€71725.73</td>\n",
       "    </tr>\n",
       "  </tbody>\n",
       "</table>\n",
       "</div>"
      ],
      "text/plain": [
       "   CustomerId   Surname  CreditScore Geography  Gender   Age  Tenure  \\\n",
       "0    15634602  Hargrave          619       FRA  Female  42.0       2   \n",
       "1    15647311      Hill          608     Spain  Female  41.0       1   \n",
       "2    15619304      Onio          502    French  Female  42.0       8   \n",
       "3    15701354      Boni          699       FRA  Female  39.0       1   \n",
       "4    15737888  Mitchell          850     Spain  Female  43.0       2   \n",
       "5    15574012       Chu          645     Spain    Male  44.0       8   \n",
       "6    15592531  Bartlett          822    France    Male  50.0       7   \n",
       "7    15656148    Obinna          376   Germany  Female  29.0       4   \n",
       "8    15792365        He          501    French    Male  44.0       4   \n",
       "9    15592389        H?          684    France    Male  27.0       2   \n",
       "\n",
       "  EstimatedSalary  \n",
       "0      €101348.88  \n",
       "1      €112542.58  \n",
       "2      €113931.57  \n",
       "3       €93826.63  \n",
       "4        €79084.1  \n",
       "5      €149756.71  \n",
       "6        €10062.8  \n",
       "7      €119346.88  \n",
       "8        €74940.5  \n",
       "9       €71725.73  "
      ]
     },
     "execution_count": 4,
     "metadata": {},
     "output_type": "execute_result"
    }
   ],
   "source": [
    "customers_df.head(10)"
   ]
  },
  {
   "cell_type": "code",
   "execution_count": 5,
   "id": "32083aa1-0584-4dfd-bf69-151e2e80f709",
   "metadata": {},
   "outputs": [
    {
     "data": {
      "text/plain": [
       "Index(['CustomerId', 'Surname', 'CreditScore', 'Geography', 'Gender', 'Age',\n",
       "       'Tenure', 'EstimatedSalary'],\n",
       "      dtype='object')"
      ]
     },
     "execution_count": 5,
     "metadata": {},
     "output_type": "execute_result"
    }
   ],
   "source": [
    "customers_df.columns"
   ]
  },
  {
   "cell_type": "code",
   "execution_count": 6,
   "id": "07b7d26f-4818-46e0-a92f-c31ed419d4be",
   "metadata": {},
   "outputs": [
    {
     "data": {
      "text/plain": [
       "Index(['CustomerId', 'Balance', 'NumOfProducts', 'HasCrCard', 'Tenure',\n",
       "       'IsActiveMember', 'Exited'],\n",
       "      dtype='object')"
      ]
     },
     "execution_count": 6,
     "metadata": {},
     "output_type": "execute_result"
    }
   ],
   "source": [
    "account_df.columns"
   ]
  },
  {
   "cell_type": "markdown",
   "id": "8c2df089-ea29-4e3e-9ab3-07bc3ded9c21",
   "metadata": {},
   "source": [
    "*Combining Data*"
   ]
  },
  {
   "cell_type": "code",
   "execution_count": 7,
   "id": "6b852acd-d439-4033-9c2a-66078ce4cb3b",
   "metadata": {},
   "outputs": [
    {
     "data": {
      "text/html": [
       "<div>\n",
       "<style scoped>\n",
       "    .dataframe tbody tr th:only-of-type {\n",
       "        vertical-align: middle;\n",
       "    }\n",
       "\n",
       "    .dataframe tbody tr th {\n",
       "        vertical-align: top;\n",
       "    }\n",
       "\n",
       "    .dataframe thead th {\n",
       "        text-align: right;\n",
       "    }\n",
       "</style>\n",
       "<table border=\"1\" class=\"dataframe\">\n",
       "  <thead>\n",
       "    <tr style=\"text-align: right;\">\n",
       "      <th></th>\n",
       "      <th>CustomerId</th>\n",
       "      <th>Balance</th>\n",
       "      <th>NumOfProducts</th>\n",
       "      <th>HasCrCard</th>\n",
       "      <th>Tenure_x</th>\n",
       "      <th>IsActiveMember</th>\n",
       "      <th>Exited</th>\n",
       "      <th>Surname</th>\n",
       "      <th>CreditScore</th>\n",
       "      <th>Geography</th>\n",
       "      <th>Gender</th>\n",
       "      <th>Age</th>\n",
       "      <th>Tenure_y</th>\n",
       "      <th>EstimatedSalary</th>\n",
       "    </tr>\n",
       "  </thead>\n",
       "  <tbody>\n",
       "    <tr>\n",
       "      <th>0</th>\n",
       "      <td>15634602</td>\n",
       "      <td>€0.0</td>\n",
       "      <td>1</td>\n",
       "      <td>Yes</td>\n",
       "      <td>2</td>\n",
       "      <td>Yes</td>\n",
       "      <td>1</td>\n",
       "      <td>Hargrave</td>\n",
       "      <td>619</td>\n",
       "      <td>FRA</td>\n",
       "      <td>Female</td>\n",
       "      <td>42.0</td>\n",
       "      <td>2</td>\n",
       "      <td>€101348.88</td>\n",
       "    </tr>\n",
       "    <tr>\n",
       "      <th>1</th>\n",
       "      <td>15634602</td>\n",
       "      <td>€0.0</td>\n",
       "      <td>1</td>\n",
       "      <td>Yes</td>\n",
       "      <td>2</td>\n",
       "      <td>Yes</td>\n",
       "      <td>1</td>\n",
       "      <td>Hargrave</td>\n",
       "      <td>619</td>\n",
       "      <td>FRA</td>\n",
       "      <td>Female</td>\n",
       "      <td>42.0</td>\n",
       "      <td>2</td>\n",
       "      <td>€101348.88</td>\n",
       "    </tr>\n",
       "    <tr>\n",
       "      <th>2</th>\n",
       "      <td>15647311</td>\n",
       "      <td>€83807.86</td>\n",
       "      <td>1</td>\n",
       "      <td>Yes</td>\n",
       "      <td>1</td>\n",
       "      <td>Yes</td>\n",
       "      <td>0</td>\n",
       "      <td>Hill</td>\n",
       "      <td>608</td>\n",
       "      <td>Spain</td>\n",
       "      <td>Female</td>\n",
       "      <td>41.0</td>\n",
       "      <td>1</td>\n",
       "      <td>€112542.58</td>\n",
       "    </tr>\n",
       "    <tr>\n",
       "      <th>3</th>\n",
       "      <td>15619304</td>\n",
       "      <td>€159660.8</td>\n",
       "      <td>3</td>\n",
       "      <td>No</td>\n",
       "      <td>8</td>\n",
       "      <td>No</td>\n",
       "      <td>1</td>\n",
       "      <td>Onio</td>\n",
       "      <td>502</td>\n",
       "      <td>French</td>\n",
       "      <td>Female</td>\n",
       "      <td>42.0</td>\n",
       "      <td>8</td>\n",
       "      <td>€113931.57</td>\n",
       "    </tr>\n",
       "    <tr>\n",
       "      <th>4</th>\n",
       "      <td>15701354</td>\n",
       "      <td>€0.0</td>\n",
       "      <td>2</td>\n",
       "      <td>No</td>\n",
       "      <td>1</td>\n",
       "      <td>No</td>\n",
       "      <td>0</td>\n",
       "      <td>Boni</td>\n",
       "      <td>699</td>\n",
       "      <td>FRA</td>\n",
       "      <td>Female</td>\n",
       "      <td>39.0</td>\n",
       "      <td>1</td>\n",
       "      <td>€93826.63</td>\n",
       "    </tr>\n",
       "    <tr>\n",
       "      <th>...</th>\n",
       "      <td>...</td>\n",
       "      <td>...</td>\n",
       "      <td>...</td>\n",
       "      <td>...</td>\n",
       "      <td>...</td>\n",
       "      <td>...</td>\n",
       "      <td>...</td>\n",
       "      <td>...</td>\n",
       "      <td>...</td>\n",
       "      <td>...</td>\n",
       "      <td>...</td>\n",
       "      <td>...</td>\n",
       "      <td>...</td>\n",
       "      <td>...</td>\n",
       "    </tr>\n",
       "    <tr>\n",
       "      <th>9999</th>\n",
       "      <td>15682355</td>\n",
       "      <td>€75075.31</td>\n",
       "      <td>2</td>\n",
       "      <td>No</td>\n",
       "      <td>3</td>\n",
       "      <td>No</td>\n",
       "      <td>1</td>\n",
       "      <td>Sabbatini</td>\n",
       "      <td>772</td>\n",
       "      <td>Germany</td>\n",
       "      <td>Male</td>\n",
       "      <td>42.0</td>\n",
       "      <td>3</td>\n",
       "      <td>€92888.52</td>\n",
       "    </tr>\n",
       "    <tr>\n",
       "      <th>10000</th>\n",
       "      <td>15628319</td>\n",
       "      <td>€130142.79</td>\n",
       "      <td>1</td>\n",
       "      <td>No</td>\n",
       "      <td>4</td>\n",
       "      <td>No</td>\n",
       "      <td>0</td>\n",
       "      <td>Walker</td>\n",
       "      <td>792</td>\n",
       "      <td>French</td>\n",
       "      <td>Female</td>\n",
       "      <td>28.0</td>\n",
       "      <td>4</td>\n",
       "      <td>€38190.78</td>\n",
       "    </tr>\n",
       "    <tr>\n",
       "      <th>10001</th>\n",
       "      <td>15628319</td>\n",
       "      <td>€130142.79</td>\n",
       "      <td>1</td>\n",
       "      <td>No</td>\n",
       "      <td>4</td>\n",
       "      <td>No</td>\n",
       "      <td>0</td>\n",
       "      <td>Walker</td>\n",
       "      <td>792</td>\n",
       "      <td>French</td>\n",
       "      <td>Female</td>\n",
       "      <td>28.0</td>\n",
       "      <td>4</td>\n",
       "      <td>€38190.78</td>\n",
       "    </tr>\n",
       "    <tr>\n",
       "      <th>10002</th>\n",
       "      <td>15628319</td>\n",
       "      <td>€130142.79</td>\n",
       "      <td>1</td>\n",
       "      <td>No</td>\n",
       "      <td>4</td>\n",
       "      <td>No</td>\n",
       "      <td>0</td>\n",
       "      <td>Walker</td>\n",
       "      <td>792</td>\n",
       "      <td>French</td>\n",
       "      <td>Female</td>\n",
       "      <td>28.0</td>\n",
       "      <td>4</td>\n",
       "      <td>€38190.78</td>\n",
       "    </tr>\n",
       "    <tr>\n",
       "      <th>10003</th>\n",
       "      <td>15628319</td>\n",
       "      <td>€130142.79</td>\n",
       "      <td>1</td>\n",
       "      <td>No</td>\n",
       "      <td>4</td>\n",
       "      <td>No</td>\n",
       "      <td>0</td>\n",
       "      <td>Walker</td>\n",
       "      <td>792</td>\n",
       "      <td>French</td>\n",
       "      <td>Female</td>\n",
       "      <td>28.0</td>\n",
       "      <td>4</td>\n",
       "      <td>€38190.78</td>\n",
       "    </tr>\n",
       "  </tbody>\n",
       "</table>\n",
       "<p>10004 rows × 14 columns</p>\n",
       "</div>"
      ],
      "text/plain": [
       "       CustomerId     Balance  NumOfProducts HasCrCard  Tenure_x  \\\n",
       "0        15634602        €0.0              1       Yes         2   \n",
       "1        15634602        €0.0              1       Yes         2   \n",
       "2        15647311   €83807.86              1       Yes         1   \n",
       "3        15619304   €159660.8              3        No         8   \n",
       "4        15701354        €0.0              2        No         1   \n",
       "...           ...         ...            ...       ...       ...   \n",
       "9999     15682355   €75075.31              2        No         3   \n",
       "10000    15628319  €130142.79              1        No         4   \n",
       "10001    15628319  €130142.79              1        No         4   \n",
       "10002    15628319  €130142.79              1        No         4   \n",
       "10003    15628319  €130142.79              1        No         4   \n",
       "\n",
       "      IsActiveMember  Exited    Surname  CreditScore Geography  Gender   Age  \\\n",
       "0                Yes       1   Hargrave          619       FRA  Female  42.0   \n",
       "1                Yes       1   Hargrave          619       FRA  Female  42.0   \n",
       "2                Yes       0       Hill          608     Spain  Female  41.0   \n",
       "3                 No       1       Onio          502    French  Female  42.0   \n",
       "4                 No       0       Boni          699       FRA  Female  39.0   \n",
       "...              ...     ...        ...          ...       ...     ...   ...   \n",
       "9999              No       1  Sabbatini          772   Germany    Male  42.0   \n",
       "10000             No       0     Walker          792    French  Female  28.0   \n",
       "10001             No       0     Walker          792    French  Female  28.0   \n",
       "10002             No       0     Walker          792    French  Female  28.0   \n",
       "10003             No       0     Walker          792    French  Female  28.0   \n",
       "\n",
       "       Tenure_y EstimatedSalary  \n",
       "0             2      €101348.88  \n",
       "1             2      €101348.88  \n",
       "2             1      €112542.58  \n",
       "3             8      €113931.57  \n",
       "4             1       €93826.63  \n",
       "...         ...             ...  \n",
       "9999          3       €92888.52  \n",
       "10000         4       €38190.78  \n",
       "10001         4       €38190.78  \n",
       "10002         4       €38190.78  \n",
       "10003         4       €38190.78  \n",
       "\n",
       "[10004 rows x 14 columns]"
      ]
     },
     "execution_count": 7,
     "metadata": {},
     "output_type": "execute_result"
    }
   ],
   "source": [
    "comb_df = pd.merge(account_df, customers_df,  how = 'right', left_on = 'CustomerId', right_on = 'CustomerId')\n",
    "comb_df"
   ]
  },
  {
   "cell_type": "code",
   "execution_count": 8,
   "id": "650dd586-58c1-43a5-b55c-1ee47b3795a7",
   "metadata": {},
   "outputs": [
    {
     "data": {
      "text/plain": [
       "(10004, 14)"
      ]
     },
     "execution_count": 8,
     "metadata": {},
     "output_type": "execute_result"
    }
   ],
   "source": [
    "comb_df.shape"
   ]
  },
  {
   "cell_type": "code",
   "execution_count": 9,
   "id": "c4066150-9e3c-4995-80c6-e18c7e9a77cc",
   "metadata": {},
   "outputs": [
    {
     "data": {
      "text/plain": [
       "(10002, 7)"
      ]
     },
     "execution_count": 9,
     "metadata": {},
     "output_type": "execute_result"
    }
   ],
   "source": [
    "account_df.shape"
   ]
  },
  {
   "cell_type": "code",
   "execution_count": 10,
   "id": "5f6c9991-a419-40b5-afdc-c697db9c893a",
   "metadata": {},
   "outputs": [
    {
     "data": {
      "text/plain": [
       "(10001, 8)"
      ]
     },
     "execution_count": 10,
     "metadata": {},
     "output_type": "execute_result"
    }
   ],
   "source": [
    "customers_df.shape"
   ]
  },
  {
   "cell_type": "code",
   "execution_count": 11,
   "id": "5681550a-8ab8-4e6b-8a3e-3e4f2d353b76",
   "metadata": {},
   "outputs": [
    {
     "name": "stdout",
     "output_type": "stream",
     "text": [
      "<class 'pandas.core.frame.DataFrame'>\n",
      "RangeIndex: 10004 entries, 0 to 10003\n",
      "Data columns (total 14 columns):\n",
      " #   Column           Non-Null Count  Dtype  \n",
      "---  ------           --------------  -----  \n",
      " 0   CustomerId       10004 non-null  int64  \n",
      " 1   Balance          10004 non-null  object \n",
      " 2   NumOfProducts    10004 non-null  int64  \n",
      " 3   HasCrCard        10004 non-null  object \n",
      " 4   Tenure_x         10004 non-null  int64  \n",
      " 5   IsActiveMember   10004 non-null  object \n",
      " 6   Exited           10004 non-null  int64  \n",
      " 7   Surname          10001 non-null  object \n",
      " 8   CreditScore      10004 non-null  int64  \n",
      " 9   Geography        10004 non-null  object \n",
      " 10  Gender           10004 non-null  object \n",
      " 11  Age              10001 non-null  float64\n",
      " 12  Tenure_y         10004 non-null  int64  \n",
      " 13  EstimatedSalary  10004 non-null  object \n",
      "dtypes: float64(1), int64(6), object(7)\n",
      "memory usage: 1.1+ MB\n"
     ]
    }
   ],
   "source": [
    "comb_df.info()"
   ]
  },
  {
   "cell_type": "code",
   "execution_count": 12,
   "id": "4df3094b-80f3-43fd-9e53-3e0ffee0b429",
   "metadata": {},
   "outputs": [],
   "source": [
    "comb_df.rename(columns = {\n",
    "    'IsActiveMember' : 'Active Member',\n",
    "    'HasCrCard' : 'Credit Card Holder'\n",
    "}, inplace=True)"
   ]
  },
  {
   "cell_type": "code",
   "execution_count": 13,
   "id": "ffe6ef99-5c2c-40e4-98b7-df44e8c06ac3",
   "metadata": {},
   "outputs": [
    {
     "data": {
      "text/html": [
       "<div>\n",
       "<style scoped>\n",
       "    .dataframe tbody tr th:only-of-type {\n",
       "        vertical-align: middle;\n",
       "    }\n",
       "\n",
       "    .dataframe tbody tr th {\n",
       "        vertical-align: top;\n",
       "    }\n",
       "\n",
       "    .dataframe thead th {\n",
       "        text-align: right;\n",
       "    }\n",
       "</style>\n",
       "<table border=\"1\" class=\"dataframe\">\n",
       "  <thead>\n",
       "    <tr style=\"text-align: right;\">\n",
       "      <th></th>\n",
       "      <th>CustomerId</th>\n",
       "      <th>NumOfProducts</th>\n",
       "      <th>Tenure_x</th>\n",
       "      <th>Exited</th>\n",
       "      <th>CreditScore</th>\n",
       "      <th>Age</th>\n",
       "      <th>Tenure_y</th>\n",
       "    </tr>\n",
       "  </thead>\n",
       "  <tbody>\n",
       "    <tr>\n",
       "      <th>count</th>\n",
       "      <td>1.000400e+04</td>\n",
       "      <td>10004.000000</td>\n",
       "      <td>10004.000000</td>\n",
       "      <td>10004.000000</td>\n",
       "      <td>10004.000000</td>\n",
       "      <td>10001.000000</td>\n",
       "      <td>10004.000000</td>\n",
       "    </tr>\n",
       "    <tr>\n",
       "      <th>mean</th>\n",
       "      <td>1.569092e+07</td>\n",
       "      <td>1.529988</td>\n",
       "      <td>5.012195</td>\n",
       "      <td>0.203719</td>\n",
       "      <td>650.568073</td>\n",
       "      <td>38.919108</td>\n",
       "      <td>5.012195</td>\n",
       "    </tr>\n",
       "    <tr>\n",
       "      <th>std</th>\n",
       "      <td>7.193218e+04</td>\n",
       "      <td>0.581635</td>\n",
       "      <td>2.891806</td>\n",
       "      <td>0.402782</td>\n",
       "      <td>96.665531</td>\n",
       "      <td>10.488725</td>\n",
       "      <td>2.891806</td>\n",
       "    </tr>\n",
       "    <tr>\n",
       "      <th>min</th>\n",
       "      <td>1.556570e+07</td>\n",
       "      <td>1.000000</td>\n",
       "      <td>0.000000</td>\n",
       "      <td>0.000000</td>\n",
       "      <td>350.000000</td>\n",
       "      <td>18.000000</td>\n",
       "      <td>0.000000</td>\n",
       "    </tr>\n",
       "    <tr>\n",
       "      <th>25%</th>\n",
       "      <td>1.562839e+07</td>\n",
       "      <td>1.000000</td>\n",
       "      <td>3.000000</td>\n",
       "      <td>0.000000</td>\n",
       "      <td>584.000000</td>\n",
       "      <td>32.000000</td>\n",
       "      <td>3.000000</td>\n",
       "    </tr>\n",
       "    <tr>\n",
       "      <th>50%</th>\n",
       "      <td>1.569071e+07</td>\n",
       "      <td>1.000000</td>\n",
       "      <td>5.000000</td>\n",
       "      <td>0.000000</td>\n",
       "      <td>652.000000</td>\n",
       "      <td>37.000000</td>\n",
       "      <td>5.000000</td>\n",
       "    </tr>\n",
       "    <tr>\n",
       "      <th>75%</th>\n",
       "      <td>1.575322e+07</td>\n",
       "      <td>2.000000</td>\n",
       "      <td>7.000000</td>\n",
       "      <td>0.000000</td>\n",
       "      <td>718.000000</td>\n",
       "      <td>44.000000</td>\n",
       "      <td>7.000000</td>\n",
       "    </tr>\n",
       "    <tr>\n",
       "      <th>max</th>\n",
       "      <td>1.581569e+07</td>\n",
       "      <td>4.000000</td>\n",
       "      <td>10.000000</td>\n",
       "      <td>1.000000</td>\n",
       "      <td>850.000000</td>\n",
       "      <td>92.000000</td>\n",
       "      <td>10.000000</td>\n",
       "    </tr>\n",
       "  </tbody>\n",
       "</table>\n",
       "</div>"
      ],
      "text/plain": [
       "         CustomerId  NumOfProducts      Tenure_x        Exited   CreditScore  \\\n",
       "count  1.000400e+04   10004.000000  10004.000000  10004.000000  10004.000000   \n",
       "mean   1.569092e+07       1.529988      5.012195      0.203719    650.568073   \n",
       "std    7.193218e+04       0.581635      2.891806      0.402782     96.665531   \n",
       "min    1.556570e+07       1.000000      0.000000      0.000000    350.000000   \n",
       "25%    1.562839e+07       1.000000      3.000000      0.000000    584.000000   \n",
       "50%    1.569071e+07       1.000000      5.000000      0.000000    652.000000   \n",
       "75%    1.575322e+07       2.000000      7.000000      0.000000    718.000000   \n",
       "max    1.581569e+07       4.000000     10.000000      1.000000    850.000000   \n",
       "\n",
       "                Age      Tenure_y  \n",
       "count  10001.000000  10004.000000  \n",
       "mean      38.919108      5.012195  \n",
       "std       10.488725      2.891806  \n",
       "min       18.000000      0.000000  \n",
       "25%       32.000000      3.000000  \n",
       "50%       37.000000      5.000000  \n",
       "75%       44.000000      7.000000  \n",
       "max       92.000000     10.000000  "
      ]
     },
     "execution_count": 13,
     "metadata": {},
     "output_type": "execute_result"
    }
   ],
   "source": [
    "comb_df.describe()"
   ]
  },
  {
   "cell_type": "markdown",
   "id": "0efa8bbd-bc1a-4531-8410-3743157e7ead",
   "metadata": {},
   "source": [
    "##### Inference from descriptive analysis\n",
    "* Max number of products used by customers is 4 and minimum number is 1 while on the average, customers use at least one or two of the bank's products\n",
    "* The oldest staying customers have stayed for about 10 years while the shortest have been zero years,showing lack of follow through on new customwers.\n",
    "* Customers age ranges from 18years to 92years. "
   ]
  },
  {
   "cell_type": "code",
   "execution_count": 14,
   "id": "1c09d556-106c-43cf-8a9d-50773e9b5d10",
   "metadata": {},
   "outputs": [
    {
     "data": {
      "text/plain": [
       "['Balance',\n",
       " 'Credit Card Holder',\n",
       " 'Active Member',\n",
       " 'Surname',\n",
       " 'Geography',\n",
       " 'Gender',\n",
       " 'EstimatedSalary']"
      ]
     },
     "execution_count": 14,
     "metadata": {},
     "output_type": "execute_result"
    }
   ],
   "source": [
    "cat_col = [col for col in comb_df.select_dtypes(['object']).columns]\n",
    "cat_col"
   ]
  },
  {
   "cell_type": "code",
   "execution_count": 15,
   "id": "05ec47e3-1e16-4a00-ac91-336f476150d0",
   "metadata": {},
   "outputs": [
    {
     "data": {
      "text/plain": [
       "['CustomerId',\n",
       " 'NumOfProducts',\n",
       " 'Tenure_x',\n",
       " 'Exited',\n",
       " 'CreditScore',\n",
       " 'Age',\n",
       " 'Tenure_y']"
      ]
     },
     "execution_count": 15,
     "metadata": {},
     "output_type": "execute_result"
    }
   ],
   "source": [
    "num_col = [col for col in comb_df.select_dtypes(['int64','float64']).columns]\n",
    "num_col"
   ]
  },
  {
   "cell_type": "code",
   "execution_count": 16,
   "id": "8484066d-0508-48bb-bc14-7b3e8246e7dc",
   "metadata": {},
   "outputs": [
    {
     "name": "stdout",
     "output_type": "stream",
     "text": [
      "Balance\n",
      "€0.0          3618\n",
      "€130142.79       4\n",
      "€105473.74       2\n",
      "€130170.82       2\n",
      "€159660.8        1\n",
      "              ... \n",
      "€136596.85       1\n",
      "€81556.89        1\n",
      "€112687.69       1\n",
      "€108698.96       1\n",
      "€148795.17       1\n",
      "Name: count, Length: 6382, dtype: int64\n",
      "-----------------\n",
      "Credit Card Holder\n",
      "Yes    5152\n",
      "No     4852\n",
      "Name: count, dtype: int64\n",
      "-----------------\n",
      "Active Member\n",
      "Yes    5152\n",
      "No     4852\n",
      "Name: count, dtype: int64\n",
      "-----------------\n",
      "Surname\n",
      "Smith       32\n",
      "Walker      31\n",
      "Martin      29\n",
      "Scott       29\n",
      "Brown       26\n",
      "            ..\n",
      "Howey        1\n",
      "Basedow      1\n",
      "Thomsen      1\n",
      "Riddle       1\n",
      "Burbidge     1\n",
      "Name: count, Length: 2932, dtype: int64\n",
      "-----------------\n",
      "Geography\n",
      "Germany    2509\n",
      "Spain      2477\n",
      "France     1741\n",
      "French     1658\n",
      "FRA        1619\n",
      "Name: count, dtype: int64\n",
      "-----------------\n",
      "Gender\n",
      "Male      5457\n",
      "Female    4547\n",
      "Name: count, dtype: int64\n",
      "-----------------\n",
      "EstimatedSalary\n",
      "€38190.78     4\n",
      "-€999999      3\n",
      "€24924.92     2\n",
      "€101348.88    2\n",
      "€79084.1      1\n",
      "             ..\n",
      "€4523.74      1\n",
      "€102195.16    1\n",
      "€60843.09     1\n",
      "€25548.47     1\n",
      "€93112.2      1\n",
      "Name: count, Length: 9997, dtype: int64\n",
      "-----------------\n"
     ]
    }
   ],
   "source": [
    "for col in cat_col:\n",
    "    print(comb_df[col].value_counts())\n",
    "    print('-----------------')"
   ]
  },
  {
   "cell_type": "code",
   "execution_count": 17,
   "id": "00fbca86-07d7-481b-8fe6-bbf3c533b455",
   "metadata": {},
   "outputs": [
    {
     "data": {
      "text/plain": [
       "4"
      ]
     },
     "execution_count": 17,
     "metadata": {},
     "output_type": "execute_result"
    }
   ],
   "source": [
    "comb_df.duplicated().sum()"
   ]
  },
  {
   "cell_type": "code",
   "execution_count": 18,
   "id": "3831b7da-81f2-48fd-b34c-f4fdb6ccc563",
   "metadata": {},
   "outputs": [],
   "source": [
    "comb_df.drop_duplicates(inplace=True)"
   ]
  },
  {
   "cell_type": "code",
   "execution_count": 19,
   "id": "7e47840d-485c-40a7-9bd7-efc3f49c8ff2",
   "metadata": {},
   "outputs": [
    {
     "data": {
      "text/plain": [
       "0"
      ]
     },
     "execution_count": 19,
     "metadata": {},
     "output_type": "execute_result"
    }
   ],
   "source": [
    "comb_df.duplicated().sum()"
   ]
  },
  {
   "cell_type": "code",
   "execution_count": 20,
   "id": "8757c327-c627-44ff-ab63-dc1d1466aa65",
   "metadata": {},
   "outputs": [
    {
     "data": {
      "text/plain": [
       "(10000, 14)"
      ]
     },
     "execution_count": 20,
     "metadata": {},
     "output_type": "execute_result"
    }
   ],
   "source": [
    "comb_df.shape"
   ]
  },
  {
   "cell_type": "code",
   "execution_count": 21,
   "id": "46598733-deef-4674-a9bd-79a1e60a751a",
   "metadata": {},
   "outputs": [
    {
     "data": {
      "text/plain": [
       "CustomerId            0\n",
       "Balance               0\n",
       "NumOfProducts         0\n",
       "Credit Card Holder    0\n",
       "Tenure_x              0\n",
       "Active Member         0\n",
       "Exited                0\n",
       "Surname               3\n",
       "CreditScore           0\n",
       "Geography             0\n",
       "Gender                0\n",
       "Age                   3\n",
       "Tenure_y              0\n",
       "EstimatedSalary       0\n",
       "dtype: int64"
      ]
     },
     "execution_count": 21,
     "metadata": {},
     "output_type": "execute_result"
    }
   ],
   "source": [
    "comb_df.isnull().sum()"
   ]
  },
  {
   "cell_type": "code",
   "execution_count": 22,
   "id": "90c29030-292b-41ca-b66e-c8e84f5dbc50",
   "metadata": {},
   "outputs": [
    {
     "data": {
      "text/plain": [
       "CustomerId            0.00\n",
       "Balance               0.00\n",
       "NumOfProducts         0.00\n",
       "Credit Card Holder    0.00\n",
       "Tenure_x              0.00\n",
       "Active Member         0.00\n",
       "Exited                0.00\n",
       "Surname               0.03\n",
       "CreditScore           0.00\n",
       "Geography             0.00\n",
       "Gender                0.00\n",
       "Age                   0.03\n",
       "Tenure_y              0.00\n",
       "EstimatedSalary       0.00\n",
       "dtype: float64"
      ]
     },
     "execution_count": 22,
     "metadata": {},
     "output_type": "execute_result"
    }
   ],
   "source": [
    "comb_df.isnull().sum() / len(comb_df) * 100"
   ]
  },
  {
   "cell_type": "code",
   "execution_count": 23,
   "id": "823c5032-91e5-4a70-bc73-de6d029cbd35",
   "metadata": {},
   "outputs": [
    {
     "data": {
      "text/html": [
       "<div>\n",
       "<style scoped>\n",
       "    .dataframe tbody tr th:only-of-type {\n",
       "        vertical-align: middle;\n",
       "    }\n",
       "\n",
       "    .dataframe tbody tr th {\n",
       "        vertical-align: top;\n",
       "    }\n",
       "\n",
       "    .dataframe thead th {\n",
       "        text-align: right;\n",
       "    }\n",
       "</style>\n",
       "<table border=\"1\" class=\"dataframe\">\n",
       "  <thead>\n",
       "    <tr style=\"text-align: right;\">\n",
       "      <th></th>\n",
       "      <th>CustomerId</th>\n",
       "      <th>Balance</th>\n",
       "      <th>NumOfProducts</th>\n",
       "      <th>Credit Card Holder</th>\n",
       "      <th>Tenure_x</th>\n",
       "      <th>Active Member</th>\n",
       "      <th>Exited</th>\n",
       "      <th>Surname</th>\n",
       "      <th>CreditScore</th>\n",
       "      <th>Geography</th>\n",
       "      <th>Gender</th>\n",
       "      <th>Age</th>\n",
       "      <th>Tenure_y</th>\n",
       "      <th>EstimatedSalary</th>\n",
       "    </tr>\n",
       "  </thead>\n",
       "  <tbody>\n",
       "    <tr>\n",
       "      <th>29</th>\n",
       "      <td>15728693</td>\n",
       "      <td>€141349.43</td>\n",
       "      <td>1</td>\n",
       "      <td>Yes</td>\n",
       "      <td>3</td>\n",
       "      <td>Yes</td>\n",
       "      <td>0</td>\n",
       "      <td>NaN</td>\n",
       "      <td>574</td>\n",
       "      <td>Germany</td>\n",
       "      <td>Female</td>\n",
       "      <td>NaN</td>\n",
       "      <td>3</td>\n",
       "      <td>-€999999</td>\n",
       "    </tr>\n",
       "    <tr>\n",
       "      <th>122</th>\n",
       "      <td>15580203</td>\n",
       "      <td>€120193.42</td>\n",
       "      <td>1</td>\n",
       "      <td>No</td>\n",
       "      <td>6</td>\n",
       "      <td>No</td>\n",
       "      <td>0</td>\n",
       "      <td>NaN</td>\n",
       "      <td>674</td>\n",
       "      <td>Spain</td>\n",
       "      <td>Male</td>\n",
       "      <td>NaN</td>\n",
       "      <td>6</td>\n",
       "      <td>-€999999</td>\n",
       "    </tr>\n",
       "    <tr>\n",
       "      <th>9390</th>\n",
       "      <td>15756954</td>\n",
       "      <td>€0.0</td>\n",
       "      <td>1</td>\n",
       "      <td>Yes</td>\n",
       "      <td>2</td>\n",
       "      <td>Yes</td>\n",
       "      <td>0</td>\n",
       "      <td>NaN</td>\n",
       "      <td>538</td>\n",
       "      <td>France</td>\n",
       "      <td>Female</td>\n",
       "      <td>NaN</td>\n",
       "      <td>2</td>\n",
       "      <td>-€999999</td>\n",
       "    </tr>\n",
       "  </tbody>\n",
       "</table>\n",
       "</div>"
      ],
      "text/plain": [
       "      CustomerId     Balance  NumOfProducts Credit Card Holder  Tenure_x  \\\n",
       "29      15728693  €141349.43              1                Yes         3   \n",
       "122     15580203  €120193.42              1                 No         6   \n",
       "9390    15756954        €0.0              1                Yes         2   \n",
       "\n",
       "     Active Member  Exited Surname  CreditScore Geography  Gender  Age  \\\n",
       "29             Yes       0     NaN          574   Germany  Female  NaN   \n",
       "122             No       0     NaN          674     Spain    Male  NaN   \n",
       "9390           Yes       0     NaN          538    France  Female  NaN   \n",
       "\n",
       "      Tenure_y EstimatedSalary  \n",
       "29           3        -€999999  \n",
       "122          6        -€999999  \n",
       "9390         2        -€999999  "
      ]
     },
     "execution_count": 23,
     "metadata": {},
     "output_type": "execute_result"
    }
   ],
   "source": [
    "comb_df[comb_df['Surname'].isnull()]"
   ]
  },
  {
   "cell_type": "code",
   "execution_count": 24,
   "id": "8fa1d627-08e1-42ba-b209-5b28d662760e",
   "metadata": {},
   "outputs": [
    {
     "data": {
      "text/plain": [
       "0         Hargrave\n",
       "2             Hill\n",
       "3             Onio\n",
       "4             Boni\n",
       "5         Mitchell\n",
       "           ...    \n",
       "9996      Obijiaku\n",
       "9997     Johnstone\n",
       "9998           Liu\n",
       "9999     Sabbatini\n",
       "10000       Walker\n",
       "Name: Surname, Length: 10000, dtype: object"
      ]
     },
     "execution_count": 24,
     "metadata": {},
     "output_type": "execute_result"
    }
   ],
   "source": [
    "comb_df['Surname'] = comb_df['Surname'].fillna('Unknown')\n",
    "comb_df['Surname']\n"
   ]
  },
  {
   "cell_type": "code",
   "execution_count": 24,
   "id": "7d85f38c-f74b-46b4-aae1-50cb0a5b48f7",
   "metadata": {},
   "outputs": [],
   "source": [
    "mean_Age = comb_df['Age'].mean()\n",
    "comb_df['Age'] = comb_df['Age'].fillna(mean_Age)"
   ]
  },
  {
   "cell_type": "code",
   "execution_count": 25,
   "id": "fab7063e-c7c8-486d-bba6-056773a59282",
   "metadata": {},
   "outputs": [
    {
     "data": {
      "text/plain": [
       "0        42.0\n",
       "2        41.0\n",
       "3        42.0\n",
       "4        39.0\n",
       "5        43.0\n",
       "         ... \n",
       "9996     39.0\n",
       "9997     35.0\n",
       "9998     36.0\n",
       "9999     42.0\n",
       "10000    28.0\n",
       "Name: Age, Length: 10000, dtype: float64"
      ]
     },
     "execution_count": 25,
     "metadata": {},
     "output_type": "execute_result"
    }
   ],
   "source": [
    "comb_df['Age']"
   ]
  },
  {
   "cell_type": "code",
   "execution_count": 26,
   "id": "0689956d-4330-4fbf-9a17-e949a6675904",
   "metadata": {},
   "outputs": [
    {
     "data": {
      "text/html": [
       "<div>\n",
       "<style scoped>\n",
       "    .dataframe tbody tr th:only-of-type {\n",
       "        vertical-align: middle;\n",
       "    }\n",
       "\n",
       "    .dataframe tbody tr th {\n",
       "        vertical-align: top;\n",
       "    }\n",
       "\n",
       "    .dataframe thead th {\n",
       "        text-align: right;\n",
       "    }\n",
       "</style>\n",
       "<table border=\"1\" class=\"dataframe\">\n",
       "  <thead>\n",
       "    <tr style=\"text-align: right;\">\n",
       "      <th></th>\n",
       "      <th>CustomerId</th>\n",
       "      <th>Balance</th>\n",
       "      <th>NumOfProducts</th>\n",
       "      <th>Credit Card Holder</th>\n",
       "      <th>Tenure_x</th>\n",
       "      <th>Active Member</th>\n",
       "      <th>Exited</th>\n",
       "      <th>Surname</th>\n",
       "      <th>CreditScore</th>\n",
       "      <th>Geography</th>\n",
       "      <th>Gender</th>\n",
       "      <th>Age</th>\n",
       "      <th>Tenure_y</th>\n",
       "      <th>EstimatedSalary</th>\n",
       "    </tr>\n",
       "  </thead>\n",
       "  <tbody>\n",
       "    <tr>\n",
       "      <th>0</th>\n",
       "      <td>15634602</td>\n",
       "      <td>€0.0</td>\n",
       "      <td>1</td>\n",
       "      <td>Yes</td>\n",
       "      <td>2</td>\n",
       "      <td>Yes</td>\n",
       "      <td>1</td>\n",
       "      <td>Hargrave</td>\n",
       "      <td>619</td>\n",
       "      <td>France</td>\n",
       "      <td>Female</td>\n",
       "      <td>42.0</td>\n",
       "      <td>2</td>\n",
       "      <td>€101348.88</td>\n",
       "    </tr>\n",
       "    <tr>\n",
       "      <th>2</th>\n",
       "      <td>15647311</td>\n",
       "      <td>€83807.86</td>\n",
       "      <td>1</td>\n",
       "      <td>Yes</td>\n",
       "      <td>1</td>\n",
       "      <td>Yes</td>\n",
       "      <td>0</td>\n",
       "      <td>Hill</td>\n",
       "      <td>608</td>\n",
       "      <td>Spain</td>\n",
       "      <td>Female</td>\n",
       "      <td>41.0</td>\n",
       "      <td>1</td>\n",
       "      <td>€112542.58</td>\n",
       "    </tr>\n",
       "    <tr>\n",
       "      <th>3</th>\n",
       "      <td>15619304</td>\n",
       "      <td>€159660.8</td>\n",
       "      <td>3</td>\n",
       "      <td>No</td>\n",
       "      <td>8</td>\n",
       "      <td>No</td>\n",
       "      <td>1</td>\n",
       "      <td>Onio</td>\n",
       "      <td>502</td>\n",
       "      <td>French</td>\n",
       "      <td>Female</td>\n",
       "      <td>42.0</td>\n",
       "      <td>8</td>\n",
       "      <td>€113931.57</td>\n",
       "    </tr>\n",
       "    <tr>\n",
       "      <th>4</th>\n",
       "      <td>15701354</td>\n",
       "      <td>€0.0</td>\n",
       "      <td>2</td>\n",
       "      <td>No</td>\n",
       "      <td>1</td>\n",
       "      <td>No</td>\n",
       "      <td>0</td>\n",
       "      <td>Boni</td>\n",
       "      <td>699</td>\n",
       "      <td>France</td>\n",
       "      <td>Female</td>\n",
       "      <td>39.0</td>\n",
       "      <td>1</td>\n",
       "      <td>€93826.63</td>\n",
       "    </tr>\n",
       "    <tr>\n",
       "      <th>5</th>\n",
       "      <td>15737888</td>\n",
       "      <td>€125510.82</td>\n",
       "      <td>1</td>\n",
       "      <td>Yes</td>\n",
       "      <td>2</td>\n",
       "      <td>Yes</td>\n",
       "      <td>0</td>\n",
       "      <td>Mitchell</td>\n",
       "      <td>850</td>\n",
       "      <td>Spain</td>\n",
       "      <td>Female</td>\n",
       "      <td>43.0</td>\n",
       "      <td>2</td>\n",
       "      <td>€79084.1</td>\n",
       "    </tr>\n",
       "    <tr>\n",
       "      <th>...</th>\n",
       "      <td>...</td>\n",
       "      <td>...</td>\n",
       "      <td>...</td>\n",
       "      <td>...</td>\n",
       "      <td>...</td>\n",
       "      <td>...</td>\n",
       "      <td>...</td>\n",
       "      <td>...</td>\n",
       "      <td>...</td>\n",
       "      <td>...</td>\n",
       "      <td>...</td>\n",
       "      <td>...</td>\n",
       "      <td>...</td>\n",
       "      <td>...</td>\n",
       "    </tr>\n",
       "    <tr>\n",
       "      <th>9996</th>\n",
       "      <td>15606229</td>\n",
       "      <td>€0.0</td>\n",
       "      <td>2</td>\n",
       "      <td>No</td>\n",
       "      <td>5</td>\n",
       "      <td>No</td>\n",
       "      <td>0</td>\n",
       "      <td>Obijiaku</td>\n",
       "      <td>771</td>\n",
       "      <td>France</td>\n",
       "      <td>Male</td>\n",
       "      <td>39.0</td>\n",
       "      <td>5</td>\n",
       "      <td>€96270.64</td>\n",
       "    </tr>\n",
       "    <tr>\n",
       "      <th>9997</th>\n",
       "      <td>15569892</td>\n",
       "      <td>€57369.61</td>\n",
       "      <td>1</td>\n",
       "      <td>Yes</td>\n",
       "      <td>10</td>\n",
       "      <td>Yes</td>\n",
       "      <td>0</td>\n",
       "      <td>Johnstone</td>\n",
       "      <td>516</td>\n",
       "      <td>French</td>\n",
       "      <td>Male</td>\n",
       "      <td>35.0</td>\n",
       "      <td>10</td>\n",
       "      <td>€101699.77</td>\n",
       "    </tr>\n",
       "    <tr>\n",
       "      <th>9998</th>\n",
       "      <td>15584532</td>\n",
       "      <td>€0.0</td>\n",
       "      <td>1</td>\n",
       "      <td>Yes</td>\n",
       "      <td>7</td>\n",
       "      <td>Yes</td>\n",
       "      <td>1</td>\n",
       "      <td>Liu</td>\n",
       "      <td>709</td>\n",
       "      <td>France</td>\n",
       "      <td>Female</td>\n",
       "      <td>36.0</td>\n",
       "      <td>7</td>\n",
       "      <td>€42085.58</td>\n",
       "    </tr>\n",
       "    <tr>\n",
       "      <th>9999</th>\n",
       "      <td>15682355</td>\n",
       "      <td>€75075.31</td>\n",
       "      <td>2</td>\n",
       "      <td>No</td>\n",
       "      <td>3</td>\n",
       "      <td>No</td>\n",
       "      <td>1</td>\n",
       "      <td>Sabbatini</td>\n",
       "      <td>772</td>\n",
       "      <td>Germany</td>\n",
       "      <td>Male</td>\n",
       "      <td>42.0</td>\n",
       "      <td>3</td>\n",
       "      <td>€92888.52</td>\n",
       "    </tr>\n",
       "    <tr>\n",
       "      <th>10000</th>\n",
       "      <td>15628319</td>\n",
       "      <td>€130142.79</td>\n",
       "      <td>1</td>\n",
       "      <td>No</td>\n",
       "      <td>4</td>\n",
       "      <td>No</td>\n",
       "      <td>0</td>\n",
       "      <td>Walker</td>\n",
       "      <td>792</td>\n",
       "      <td>French</td>\n",
       "      <td>Female</td>\n",
       "      <td>28.0</td>\n",
       "      <td>4</td>\n",
       "      <td>€38190.78</td>\n",
       "    </tr>\n",
       "  </tbody>\n",
       "</table>\n",
       "<p>10000 rows × 14 columns</p>\n",
       "</div>"
      ],
      "text/plain": [
       "       CustomerId     Balance  NumOfProducts Credit Card Holder  Tenure_x  \\\n",
       "0        15634602        €0.0              1                Yes         2   \n",
       "2        15647311   €83807.86              1                Yes         1   \n",
       "3        15619304   €159660.8              3                 No         8   \n",
       "4        15701354        €0.0              2                 No         1   \n",
       "5        15737888  €125510.82              1                Yes         2   \n",
       "...           ...         ...            ...                ...       ...   \n",
       "9996     15606229        €0.0              2                 No         5   \n",
       "9997     15569892   €57369.61              1                Yes        10   \n",
       "9998     15584532        €0.0              1                Yes         7   \n",
       "9999     15682355   €75075.31              2                 No         3   \n",
       "10000    15628319  €130142.79              1                 No         4   \n",
       "\n",
       "      Active Member  Exited    Surname  CreditScore Geography  Gender   Age  \\\n",
       "0               Yes       1   Hargrave          619    France  Female  42.0   \n",
       "2               Yes       0       Hill          608     Spain  Female  41.0   \n",
       "3                No       1       Onio          502    French  Female  42.0   \n",
       "4                No       0       Boni          699    France  Female  39.0   \n",
       "5               Yes       0   Mitchell          850     Spain  Female  43.0   \n",
       "...             ...     ...        ...          ...       ...     ...   ...   \n",
       "9996             No       0   Obijiaku          771    France    Male  39.0   \n",
       "9997            Yes       0  Johnstone          516    French    Male  35.0   \n",
       "9998            Yes       1        Liu          709    France  Female  36.0   \n",
       "9999             No       1  Sabbatini          772   Germany    Male  42.0   \n",
       "10000            No       0     Walker          792    French  Female  28.0   \n",
       "\n",
       "       Tenure_y EstimatedSalary  \n",
       "0             2      €101348.88  \n",
       "2             1      €112542.58  \n",
       "3             8      €113931.57  \n",
       "4             1       €93826.63  \n",
       "5             2        €79084.1  \n",
       "...         ...             ...  \n",
       "9996          5       €96270.64  \n",
       "9997         10      €101699.77  \n",
       "9998          7       €42085.58  \n",
       "9999          3       €92888.52  \n",
       "10000         4       €38190.78  \n",
       "\n",
       "[10000 rows x 14 columns]"
      ]
     },
     "execution_count": 26,
     "metadata": {},
     "output_type": "execute_result"
    }
   ],
   "source": [
    "comb_df.replace('FRA','France')"
   ]
  },
  {
   "cell_type": "code",
   "execution_count": 27,
   "id": "d2ab364e-1931-4297-84e5-7ee02fcf82ae",
   "metadata": {},
   "outputs": [
    {
     "data": {
      "text/html": [
       "<div>\n",
       "<style scoped>\n",
       "    .dataframe tbody tr th:only-of-type {\n",
       "        vertical-align: middle;\n",
       "    }\n",
       "\n",
       "    .dataframe tbody tr th {\n",
       "        vertical-align: top;\n",
       "    }\n",
       "\n",
       "    .dataframe thead th {\n",
       "        text-align: right;\n",
       "    }\n",
       "</style>\n",
       "<table border=\"1\" class=\"dataframe\">\n",
       "  <thead>\n",
       "    <tr style=\"text-align: right;\">\n",
       "      <th></th>\n",
       "      <th>CustomerId</th>\n",
       "      <th>Balance</th>\n",
       "      <th>NumOfProducts</th>\n",
       "      <th>Credit Card Holder</th>\n",
       "      <th>Tenure_x</th>\n",
       "      <th>Active Member</th>\n",
       "      <th>Exited</th>\n",
       "      <th>Surname</th>\n",
       "      <th>CreditScore</th>\n",
       "      <th>Geography</th>\n",
       "      <th>Gender</th>\n",
       "      <th>Age</th>\n",
       "      <th>Tenure_y</th>\n",
       "      <th>EstimatedSalary</th>\n",
       "    </tr>\n",
       "  </thead>\n",
       "  <tbody>\n",
       "    <tr>\n",
       "      <th>0</th>\n",
       "      <td>15634602</td>\n",
       "      <td>€0.0</td>\n",
       "      <td>1</td>\n",
       "      <td>Yes</td>\n",
       "      <td>2</td>\n",
       "      <td>Yes</td>\n",
       "      <td>1</td>\n",
       "      <td>Hargrave</td>\n",
       "      <td>619</td>\n",
       "      <td>FRA</td>\n",
       "      <td>Female</td>\n",
       "      <td>42.0</td>\n",
       "      <td>2</td>\n",
       "      <td>€101348.88</td>\n",
       "    </tr>\n",
       "    <tr>\n",
       "      <th>2</th>\n",
       "      <td>15647311</td>\n",
       "      <td>€83807.86</td>\n",
       "      <td>1</td>\n",
       "      <td>Yes</td>\n",
       "      <td>1</td>\n",
       "      <td>Yes</td>\n",
       "      <td>0</td>\n",
       "      <td>Hill</td>\n",
       "      <td>608</td>\n",
       "      <td>Spain</td>\n",
       "      <td>Female</td>\n",
       "      <td>41.0</td>\n",
       "      <td>1</td>\n",
       "      <td>€112542.58</td>\n",
       "    </tr>\n",
       "    <tr>\n",
       "      <th>3</th>\n",
       "      <td>15619304</td>\n",
       "      <td>€159660.8</td>\n",
       "      <td>3</td>\n",
       "      <td>No</td>\n",
       "      <td>8</td>\n",
       "      <td>No</td>\n",
       "      <td>1</td>\n",
       "      <td>Onio</td>\n",
       "      <td>502</td>\n",
       "      <td>France</td>\n",
       "      <td>Female</td>\n",
       "      <td>42.0</td>\n",
       "      <td>8</td>\n",
       "      <td>€113931.57</td>\n",
       "    </tr>\n",
       "    <tr>\n",
       "      <th>4</th>\n",
       "      <td>15701354</td>\n",
       "      <td>€0.0</td>\n",
       "      <td>2</td>\n",
       "      <td>No</td>\n",
       "      <td>1</td>\n",
       "      <td>No</td>\n",
       "      <td>0</td>\n",
       "      <td>Boni</td>\n",
       "      <td>699</td>\n",
       "      <td>FRA</td>\n",
       "      <td>Female</td>\n",
       "      <td>39.0</td>\n",
       "      <td>1</td>\n",
       "      <td>€93826.63</td>\n",
       "    </tr>\n",
       "    <tr>\n",
       "      <th>5</th>\n",
       "      <td>15737888</td>\n",
       "      <td>€125510.82</td>\n",
       "      <td>1</td>\n",
       "      <td>Yes</td>\n",
       "      <td>2</td>\n",
       "      <td>Yes</td>\n",
       "      <td>0</td>\n",
       "      <td>Mitchell</td>\n",
       "      <td>850</td>\n",
       "      <td>Spain</td>\n",
       "      <td>Female</td>\n",
       "      <td>43.0</td>\n",
       "      <td>2</td>\n",
       "      <td>€79084.1</td>\n",
       "    </tr>\n",
       "    <tr>\n",
       "      <th>...</th>\n",
       "      <td>...</td>\n",
       "      <td>...</td>\n",
       "      <td>...</td>\n",
       "      <td>...</td>\n",
       "      <td>...</td>\n",
       "      <td>...</td>\n",
       "      <td>...</td>\n",
       "      <td>...</td>\n",
       "      <td>...</td>\n",
       "      <td>...</td>\n",
       "      <td>...</td>\n",
       "      <td>...</td>\n",
       "      <td>...</td>\n",
       "      <td>...</td>\n",
       "    </tr>\n",
       "    <tr>\n",
       "      <th>9996</th>\n",
       "      <td>15606229</td>\n",
       "      <td>€0.0</td>\n",
       "      <td>2</td>\n",
       "      <td>No</td>\n",
       "      <td>5</td>\n",
       "      <td>No</td>\n",
       "      <td>0</td>\n",
       "      <td>Obijiaku</td>\n",
       "      <td>771</td>\n",
       "      <td>France</td>\n",
       "      <td>Male</td>\n",
       "      <td>39.0</td>\n",
       "      <td>5</td>\n",
       "      <td>€96270.64</td>\n",
       "    </tr>\n",
       "    <tr>\n",
       "      <th>9997</th>\n",
       "      <td>15569892</td>\n",
       "      <td>€57369.61</td>\n",
       "      <td>1</td>\n",
       "      <td>Yes</td>\n",
       "      <td>10</td>\n",
       "      <td>Yes</td>\n",
       "      <td>0</td>\n",
       "      <td>Johnstone</td>\n",
       "      <td>516</td>\n",
       "      <td>France</td>\n",
       "      <td>Male</td>\n",
       "      <td>35.0</td>\n",
       "      <td>10</td>\n",
       "      <td>€101699.77</td>\n",
       "    </tr>\n",
       "    <tr>\n",
       "      <th>9998</th>\n",
       "      <td>15584532</td>\n",
       "      <td>€0.0</td>\n",
       "      <td>1</td>\n",
       "      <td>Yes</td>\n",
       "      <td>7</td>\n",
       "      <td>Yes</td>\n",
       "      <td>1</td>\n",
       "      <td>Liu</td>\n",
       "      <td>709</td>\n",
       "      <td>FRA</td>\n",
       "      <td>Female</td>\n",
       "      <td>36.0</td>\n",
       "      <td>7</td>\n",
       "      <td>€42085.58</td>\n",
       "    </tr>\n",
       "    <tr>\n",
       "      <th>9999</th>\n",
       "      <td>15682355</td>\n",
       "      <td>€75075.31</td>\n",
       "      <td>2</td>\n",
       "      <td>No</td>\n",
       "      <td>3</td>\n",
       "      <td>No</td>\n",
       "      <td>1</td>\n",
       "      <td>Sabbatini</td>\n",
       "      <td>772</td>\n",
       "      <td>Germany</td>\n",
       "      <td>Male</td>\n",
       "      <td>42.0</td>\n",
       "      <td>3</td>\n",
       "      <td>€92888.52</td>\n",
       "    </tr>\n",
       "    <tr>\n",
       "      <th>10000</th>\n",
       "      <td>15628319</td>\n",
       "      <td>€130142.79</td>\n",
       "      <td>1</td>\n",
       "      <td>No</td>\n",
       "      <td>4</td>\n",
       "      <td>No</td>\n",
       "      <td>0</td>\n",
       "      <td>Walker</td>\n",
       "      <td>792</td>\n",
       "      <td>France</td>\n",
       "      <td>Female</td>\n",
       "      <td>28.0</td>\n",
       "      <td>4</td>\n",
       "      <td>€38190.78</td>\n",
       "    </tr>\n",
       "  </tbody>\n",
       "</table>\n",
       "<p>10000 rows × 14 columns</p>\n",
       "</div>"
      ],
      "text/plain": [
       "       CustomerId     Balance  NumOfProducts Credit Card Holder  Tenure_x  \\\n",
       "0        15634602        €0.0              1                Yes         2   \n",
       "2        15647311   €83807.86              1                Yes         1   \n",
       "3        15619304   €159660.8              3                 No         8   \n",
       "4        15701354        €0.0              2                 No         1   \n",
       "5        15737888  €125510.82              1                Yes         2   \n",
       "...           ...         ...            ...                ...       ...   \n",
       "9996     15606229        €0.0              2                 No         5   \n",
       "9997     15569892   €57369.61              1                Yes        10   \n",
       "9998     15584532        €0.0              1                Yes         7   \n",
       "9999     15682355   €75075.31              2                 No         3   \n",
       "10000    15628319  €130142.79              1                 No         4   \n",
       "\n",
       "      Active Member  Exited    Surname  CreditScore Geography  Gender   Age  \\\n",
       "0               Yes       1   Hargrave          619       FRA  Female  42.0   \n",
       "2               Yes       0       Hill          608     Spain  Female  41.0   \n",
       "3                No       1       Onio          502    France  Female  42.0   \n",
       "4                No       0       Boni          699       FRA  Female  39.0   \n",
       "5               Yes       0   Mitchell          850     Spain  Female  43.0   \n",
       "...             ...     ...        ...          ...       ...     ...   ...   \n",
       "9996             No       0   Obijiaku          771    France    Male  39.0   \n",
       "9997            Yes       0  Johnstone          516    France    Male  35.0   \n",
       "9998            Yes       1        Liu          709       FRA  Female  36.0   \n",
       "9999             No       1  Sabbatini          772   Germany    Male  42.0   \n",
       "10000            No       0     Walker          792    France  Female  28.0   \n",
       "\n",
       "       Tenure_y EstimatedSalary  \n",
       "0             2      €101348.88  \n",
       "2             1      €112542.58  \n",
       "3             8      €113931.57  \n",
       "4             1       €93826.63  \n",
       "5             2        €79084.1  \n",
       "...         ...             ...  \n",
       "9996          5       €96270.64  \n",
       "9997         10      €101699.77  \n",
       "9998          7       €42085.58  \n",
       "9999          3       €92888.52  \n",
       "10000         4       €38190.78  \n",
       "\n",
       "[10000 rows x 14 columns]"
      ]
     },
     "execution_count": 27,
     "metadata": {},
     "output_type": "execute_result"
    }
   ],
   "source": [
    "comb_df.replace('French','France')"
   ]
  },
  {
   "cell_type": "code",
   "execution_count": 54,
   "id": "d5b4bd75-1e0a-45b7-b467-b14f3395a68b",
   "metadata": {},
   "outputs": [],
   "source": [
    "comb_df[\"Balance\"] = comb_df[\"Balance\"].astype(str).str.replace(r\"[^0-9.\\-]\", \"\", regex=True)\n",
    "comb_df[\"EstimatedSalary\"] = comb_df[\"EstimatedSalary\"].astype(str).str.replace(r\"[^0-9.\\-]\", \"\", regex=True)"
   ]
  },
  {
   "cell_type": "code",
   "execution_count": 58,
   "id": "00bd11a0-7e81-488e-b8b3-4436f05c6818",
   "metadata": {},
   "outputs": [
    {
     "name": "stdout",
     "output_type": "stream",
     "text": [
      "  Credit_Score_Bracket  Balance  EstimatedSalary\n",
      "0                 Poor        0                0\n",
      "1                 Fair        0                0\n",
      "2                 Good        0                0\n",
      "3            Very Good        0                0\n",
      "4            Excellent        0                0\n"
     ]
    }
   ],
   "source": [
    "# Convert to numeric\n",
    "comb_df[\"Balance\"] = pd.to_numeric(comb_df[\"Balance\"], errors=\"coerce\")\n",
    "comb_df[\"EstimatedSalary\"] = pd.to_numeric(comb_df[\"EstimatedSalary\"], errors=\"coerce\")\n",
    "comb_df = comb_df.dropna(subset=[\"Credit_Score_Bracket\"])\n",
    "agg = comb_df.groupby(\"Credit_Score_Bracket\", observed=True) [[\"Balance\", \"EstimatedSalary\"]].count().reset_index()\n",
    "print(agg)"
   ]
  },
  {
   "cell_type": "code",
   "execution_count": null,
   "id": "d9c87396-e112-438e-acde-599903d4c8ca",
   "metadata": {},
   "outputs": [],
   "source": [
    "# Step 2: Convert to numeric (turn bad values into NaN if they can't be parsed)\n",
    "comb_df[\"Balance\"] = pd.to_numeric(comb_df[\"Balance\"], errors=\"coerce\")\n",
    "comb_df[\"EstimatedSalary\"] = pd.to_numeric(comb_df[\"EstimatedSalary\"], errors=\"coerce\")\n",
    "\n",
    "# Step 3: Drop rows with missing credit score brackets\n",
    "comb_df = comb_df.dropna(subset=[\"Credit_Score_Bracket\"])\n",
    "\n",
    "# Step 4: Group and calculate means\n",
    "agg = comb_df.groupby(\"Credit_Score_Bracket\")[[\"Balance\", \"EstimatedSalary\"]].mean().reset_index()\n",
    "\n",
    "print(agg)"
   ]
  },
  {
   "cell_type": "code",
   "execution_count": 56,
   "id": "9cb79aba-2ede-41aa-8050-294d619fb4e9",
   "metadata": {},
   "outputs": [
    {
     "name": "stdout",
     "output_type": "stream",
     "text": [
      "    Balance  EstimatedSalary\n",
      "0       NaN              NaN\n",
      "2       NaN              NaN\n",
      "3       NaN              NaN\n",
      "4       NaN              NaN\n",
      "5       NaN              NaN\n",
      "6       NaN              NaN\n",
      "7       NaN              NaN\n",
      "8       NaN              NaN\n",
      "9       NaN              NaN\n",
      "10      NaN              NaN\n",
      "Balance            float64\n",
      "EstimatedSalary    float64\n",
      "dtype: object\n"
     ]
    }
   ],
   "source": [
    "print(comb_df[[\"Balance\", \"EstimatedSalary\"]].head(10))   \n",
    "print(comb_df[[\"Balance\", \"EstimatedSalary\"]].dtypes)     \n"
   ]
  },
  {
   "cell_type": "code",
   "execution_count": 28,
   "id": "0fef5dba-f808-4f6a-852b-5bc496b5462a",
   "metadata": {},
   "outputs": [
    {
     "name": "stdout",
     "output_type": "stream",
     "text": [
      "<class 'pandas.core.frame.DataFrame'>\n",
      "Index: 10000 entries, 0 to 10000\n",
      "Data columns (total 14 columns):\n",
      " #   Column              Non-Null Count  Dtype  \n",
      "---  ------              --------------  -----  \n",
      " 0   CustomerId          10000 non-null  int64  \n",
      " 1   Balance             10000 non-null  object \n",
      " 2   NumOfProducts       10000 non-null  int64  \n",
      " 3   Credit Card Holder  10000 non-null  object \n",
      " 4   Tenure_x            10000 non-null  int64  \n",
      " 5   Active Member       10000 non-null  object \n",
      " 6   Exited              10000 non-null  int64  \n",
      " 7   Surname             9997 non-null   object \n",
      " 8   CreditScore         10000 non-null  int64  \n",
      " 9   Geography           10000 non-null  object \n",
      " 10  Gender              10000 non-null  object \n",
      " 11  Age                 10000 non-null  float64\n",
      " 12  Tenure_y            10000 non-null  int64  \n",
      " 13  EstimatedSalary     10000 non-null  object \n",
      "dtypes: float64(1), int64(6), object(7)\n",
      "memory usage: 1.1+ MB\n"
     ]
    }
   ],
   "source": [
    "comb_df.info()"
   ]
  },
  {
   "cell_type": "code",
   "execution_count": 29,
   "id": "1fa8fbe9-cd6a-4773-836d-ea1e1c2baba3",
   "metadata": {},
   "outputs": [],
   "source": [
    "comb_df.to_csv('Cleaned_Bank_Analysis.csv')"
   ]
  },
  {
   "cell_type": "markdown",
   "id": "acf9a9f6-6345-42ce-a351-b6bd874b6f28",
   "metadata": {},
   "source": [
    "#### Data Preparation"
   ]
  },
  {
   "cell_type": "code",
   "execution_count": 81,
   "id": "bae1e972-4e22-4deb-bc64-0af33c22a328",
   "metadata": {},
   "outputs": [
    {
     "data": {
      "text/plain": [
       "<Figure size 2000x1000 with 0 Axes>"
      ]
     },
     "metadata": {},
     "output_type": "display_data"
    }
   ],
   "source": [
    "#### Helper funtions\n",
    "\n",
    "plt.figure(figsize=(20, 10)).patch.set_facecolor('none')\n",
    "\n",
    "def generate_bar_plot(x, y, xlabel, ylabel):\n",
    "    plt.bar(x,y,color='blue', edgecolor='black')\n",
    "    plt.title(f'plot of {ylabel} against {xlabel}')\n",
    "    plt.xlabel(xlabel)\n",
    "    plt.ylabel(ylabel)\n",
    "    sb.despine()\n",
    "    plt.show()\n",
    "\n",
    "def generate_line_plot(x, y, xlabel, ylabel, data):\n",
    "    sb.lineplot(x,y,data=data, color='blue')\n",
    "    plt.title(f'plot of how {ylabel} changes with {xlabel}')\n",
    "    plt.xlabel(xlabel)\n",
    "    plt.ylabel(ylabel)\n",
    "    sb.despine()\n",
    "    plt.show()"
   ]
  },
  {
   "cell_type": "code",
   "execution_count": 31,
   "id": "a5a145a2-4c6d-40c5-8e8b-b9a7e2215c4c",
   "metadata": {},
   "outputs": [
    {
     "data": {
      "text/plain": [
       "0        35-44\n",
       "2        35-44\n",
       "3        35-44\n",
       "4        35-44\n",
       "5        35-44\n",
       "         ...  \n",
       "9996     35-44\n",
       "9997     35-44\n",
       "9998     35-44\n",
       "9999     35-44\n",
       "10000    25-34\n",
       "Name: Age_Bracket, Length: 10000, dtype: category\n",
       "Categories (6, object): ['18-24' < '25-34' < '35-44' < '45-54' < '55-64' < '65+']"
      ]
     },
     "execution_count": 31,
     "metadata": {},
     "output_type": "execute_result"
    }
   ],
   "source": [
    "##### Categorical Groupings\n",
    "\n",
    "# Age Bracket\n",
    "age = [18,25,35,45,55,65,100]\n",
    "age_range = ['18-24','25-34','35-44','45-54','55-64','65+']\n",
    "comb_df['Age_Bracket'] = pd.cut(comb_df['Age'], bins=age, labels=age_range, right=False)\n",
    "comb_df['Age_Bracket'] "
   ]
  },
  {
   "cell_type": "code",
   "execution_count": 32,
   "id": "3d123af8-6caf-49b9-b84b-e8d4b0d373e6",
   "metadata": {},
   "outputs": [
    {
     "data": {
      "text/plain": [
       "0             Fair\n",
       "2             Fair\n",
       "3             Poor\n",
       "4             Good\n",
       "5        Excellent\n",
       "           ...    \n",
       "9996     Very Good\n",
       "9997          Poor\n",
       "9998          Good\n",
       "9999     Very Good\n",
       "10000    Very Good\n",
       "Name: Credit_Score_Bracket, Length: 10000, dtype: category\n",
       "Categories (5, object): ['Poor' < 'Fair' < 'Good' < 'Very Good' < 'Excellent']"
      ]
     },
     "execution_count": 32,
     "metadata": {},
     "output_type": "execute_result"
    }
   ],
   "source": [
    "# Credit Score brackets\n",
    "\n",
    "credit_score = [-1,579,669,739,799,10000]\n",
    "credit_rating = ['Poor','Fair','Good','Very Good','Excellent']\n",
    "comb_df['Credit_Score_Bracket'] = pd.cut(comb_df['CreditScore'], bins=credit_score, labels=credit_rating)\n",
    "comb_df['Credit_Score_Bracket'] "
   ]
  },
  {
   "cell_type": "code",
   "execution_count": 33,
   "id": "e9098a25-e590-4589-bb89-120dcc92b7f8",
   "metadata": {},
   "outputs": [
    {
     "data": {
      "text/plain": [
       "0         2-3\n",
       "2         0-1\n",
       "3        7-10\n",
       "4         0-1\n",
       "5         2-3\n",
       "         ... \n",
       "9996      4-6\n",
       "9997     7-10\n",
       "9998     7-10\n",
       "9999      2-3\n",
       "10000     4-6\n",
       "Name: Tenure_Bracket, Length: 10000, dtype: category\n",
       "Categories (5, object): ['0-1' < '2-3' < '4-6' < '7-10' < '10+']"
      ]
     },
     "execution_count": 33,
     "metadata": {},
     "output_type": "execute_result"
    }
   ],
   "source": [
    "# Tenure Bracket\n",
    "\n",
    "tenure_x = [-1,1,3,6,10,100]\n",
    "tenure_y = [-1,1,3,6,10,100]\n",
    "tenure_range = ['0-1','2-3','4-6','7-10','10+']\n",
    "comb_df['Tenure_Bracket'] = pd.cut(comb_df['Tenure_x'], bins=tenure_x, labels=tenure_range)\n",
    "comb_df['Tenure_Bracket']"
   ]
  },
  {
   "cell_type": "markdown",
   "id": "d328a78e-c4eb-4ff1-b491-c83343e115c5",
   "metadata": {},
   "source": [
    "##### Analysis 1\n",
    "\n",
    "Which age and gender groups dominate across key geographies?"
   ]
  },
  {
   "cell_type": "code",
   "execution_count": 34,
   "id": "77482e69-fd16-4fb2-9951-ef648327e691",
   "metadata": {},
   "outputs": [],
   "source": [
    "top_geos= comb_df['Geography'].value_counts().nlargest(5).index.tolist()"
   ]
  },
  {
   "cell_type": "code",
   "execution_count": 35,
   "id": "1e36f22c-fb65-418e-830a-942a11b360c8",
   "metadata": {},
   "outputs": [
    {
     "data": {
      "image/png": "[encoded data removed]",
      "text/plain": [
       "<Figure size 640x480 with 1 Axes>"
      ]
     },
     "metadata": {},
     "output_type": "display_data"
    }
   ],
   "source": [
    "demography = comb_df[comb_df['Geography'].isin(top_geos)]\\\n",
    "        .groupby(['Geography','Age_Bracket','Gender'], observed=True).size().unstack(fill_value=1)\n",
    "\n",
    "demography.plot(kind=\"bar\", stacked=True)\n",
    "sb.despine()\n"
   ]
  },
  {
   "cell_type": "markdown",
   "id": "34adc48b-e17a-400c-8781-996f7c72ff59",
   "metadata": {},
   "source": [
    "##### Insight; \n",
    "Middle age groups (25–34 and 35–44) generally have larger populations compared to younger (18–24) or older (65+) groups.\n",
    "\n",
    "Spain and Germany have particularly high counts in the 35–44 age group.\n",
    "\n",
    "In most countries and age groups, males (orange) are more numerous than females (blue).\n"
   ]
  },
  {
   "cell_type": "markdown",
   "id": "096cc33a-5d9c-4811-9840-d7759eb46160",
   "metadata": {},
   "source": [
    "## Analysis 2\n",
    "\n",
    "What is the typical product holding and activity level by region?"
   ]
  },
  {
   "cell_type": "code",
   "execution_count": 65,
   "id": "1745ba37-b0ed-4d7c-b447-a8e5db57263a",
   "metadata": {},
   "outputs": [
    {
     "data": {
      "text/plain": [
       "Geography\n",
       "FRA        1618\n",
       "France     1741\n",
       "French     1655\n",
       "Germany    2509\n",
       "Spain      2477\n",
       "Name: Active Member, dtype: int64"
      ]
     },
     "execution_count": 65,
     "metadata": {},
     "output_type": "execute_result"
    }
   ],
   "source": [
    "active_geo = comb_df.groupby(\"Geography\")['Active Member'].count()\n",
    "active_geo\n"
   ]
  },
  {
   "cell_type": "code",
   "execution_count": 68,
   "id": "08597cf0-a91e-46ce-b03e-ec8c1437adee",
   "metadata": {},
   "outputs": [
    {
     "data": {
      "image/png": "[encoded data removed]",
      "text/plain": [
       "<Figure size 640x480 with 1 Axes>"
      ]
     },
     "metadata": {},
     "output_type": "display_data"
    }
   ],
   "source": [
    "sb.histplot(comb_df['NumOfProducts'], bins=10)\n",
    "plt.title(\"Geography vs Active Member\")\n",
    "plt.xlabel(\"Active Member\")\n",
    "plt.ylabel(\"Geography\")\n",
    "sb.despine()\n",
    "plt.show()\n"
   ]
  },
  {
   "cell_type": "code",
   "execution_count": null,
   "id": "d254e86c-a185-40eb-903e-4e11ac5f56c2",
   "metadata": {},
   "outputs": [],
   "source": [
    "### Insight; \n",
    "* The chart shows a heavily skewed distribution where the majority fall into categories 1 and 2\n",
    "* This suggests that geography-related representation is stronger among category 1.\n"
   ]
  },
  {
   "cell_type": "markdown",
   "id": "a98b02f0-1f45-4188-84ac-ceb9e340089e",
   "metadata": {},
   "source": [
    "## Analysis 3\n",
    "Which customer segments are most at risk of churn?"
   ]
  },
  {
   "cell_type": "code",
   "execution_count": 78,
   "id": "4e9002f8-3ac6-4268-9785-4846b1bd99b2",
   "metadata": {},
   "outputs": [
    {
     "data": {
      "image/png": "[encoded data removed]",
      "text/plain": [
       "<Figure size 640x480 with 1 Axes>"
      ]
     },
     "metadata": {},
     "output_type": "display_data"
    }
   ],
   "source": [
    "(\n",
    "    comb_df.groupby(\"Credit_Score_Bracket\", observed=True)[\"Exited\"]\n",
    "    .mean()\n",
    "    .sort_values(ascending=False)\n",
    "    .plot(kind=\"bar\"))\n",
    "\n",
    "plt.title(\"Exited vs Credit_Score_Bracket\")\n",
    "plt.xlabel(\"Credit_Score_Bracket\")\n",
    "plt.ylabel(\"Exited\")\n",
    "sb.despine()\n",
    "plt.show()\n",
    "\n",
    "\n"
   ]
  },
  {
   "cell_type": "code",
   "execution_count": 79,
   "id": "92f16ec9-c2af-418a-b254-feca25f3d883",
   "metadata": {},
   "outputs": [
    {
     "data": {
      "image/png": "[encoded data removed]",
      "text/plain": [
       "<Figure size 640x480 with 1 Axes>"
      ]
     },
     "metadata": {},
     "output_type": "display_data"
    }
   ],
   "source": [
    "comb_df.groupby(\"Age_Bracket\", observed= True)['Exited'].mean().plot(kind=\"bar\")\n",
    "(\n",
    "    comb_df.groupby(\"Age_Bracket\", observed=True)[\"Exited\"]\n",
    "    .mean()\n",
    "    .sort_values(ascending=False)\n",
    "    .plot(kind=\"bar\"))\n",
    "\n",
    "plt.title(\"Exited vs Age_Bracket\")\n",
    "plt.xlabel(\"Age_Bracket\")\n",
    "plt.ylabel(\"Exited\")\n",
    "sb.despine()\n",
    "plt.show()"
   ]
  },
  {
   "cell_type": "code",
   "execution_count": 80,
   "id": "9478bdb3-7552-4c2f-865c-03eeff48e539",
   "metadata": {},
   "outputs": [
    {
     "data": {
      "image/png": "[encoded data removed]",
      "text/plain": [
       "<Figure size 640x480 with 1 Axes>"
      ]
     },
     "metadata": {},
     "output_type": "display_data"
    }
   ],
   "source": [
    "(\n",
    "    comb_df.groupby(\"Active Member\", observed=True)[\"Exited\"]\n",
    "    .mean()\n",
    "    .sort_values(ascending=False)\n",
    "    .plot(kind=\"bar\"))\n",
    "\n",
    "plt.title(\"Exited vs Active Member\")\n",
    "plt.xlabel(\"Active Member\")\n",
    "plt.ylabel(\"Exited\")\n",
    "sb.despine()\n",
    "plt.show()"
   ]
  },
  {
   "cell_type": "markdown",
   "id": "3853e56d-993d-48ee-96b1-24d80632a7c2",
   "metadata": {},
   "source": [
    "### Insight\n",
    "* Customers with Poor credit scores have the highest exit rate (above 0.21)\n",
    "* There is a slight downward trend as credit score improves\n",
    "* Higher Exit Rates in Older and Youngest Groups\n",
    "* Customers who are not active members have an exit rate of >25%."
   ]
  },
  {
   "cell_type": "markdown",
   "id": "086903d1-8f9e-4067-ba75-d485f545164f",
   "metadata": {},
   "source": [
    "# Analysis 4\n",
    "\n",
    "How does churn risk change as customer tenure increases?"
   ]
  },
  {
   "cell_type": "code",
   "execution_count": 86,
   "id": "4ea3f401-d1e0-487d-9d6f-bd6c34beae9c",
   "metadata": {},
   "outputs": [
    {
     "data": {
      "image/png": "[encoded data removed]",
      "text/plain": [
       "<Figure size 640x480 with 1 Axes>"
      ]
     },
     "metadata": {},
     "output_type": "display_data"
    }
   ],
   "source": [
    "Bracket = comb_df.groupby(\"Tenure_Bracket\", observed=True)['Exited'].mean()\n",
    "Bracket.plot(kind=\"line\", marker=\"o\")\n",
    "plt.title(\"Plot of how Exited changes with Tenure_Bracket\")\n",
    "plt.xlabel(\"Tenure_Bracket\")\n",
    "plt.ylabel(\"Exited\")\n",
    "sb.despine()\n",
    "plt.show()\n"
   ]
  },
  {
   "cell_type": "markdown",
   "id": "c933b45d-3d1f-4b41-9ce9-dda0d28af680",
   "metadata": {},
   "source": [
    "# Insight\n",
    "\n",
    "* Highest Exit Rate in New Customers (0–1 years).\n",
    "* Customers in the 2–3 year bracket show a significant drop in exit rate (to ~20.2%)"
   ]
  },
  {
   "cell_type": "markdown",
   "id": "3deffd5d-62c4-4fa5-9b69-28e0c96259e9",
   "metadata": {},
   "source": [
    "###### Analysis 5\n",
    "\n",
    "What financial value can be protected by reducing churn in key at-risk groups?"
   ]
  },
  {
   "cell_type": "code",
   "execution_count": 97,
   "id": "cca21a1b-1d87-465e-a0b5-edcc0b31ab7c",
   "metadata": {},
   "outputs": [
    {
     "ename": "IndexError",
     "evalue": "index 0 is out of bounds for axis 0 with size 0",
     "output_type": "error",
     "traceback": [
      "\u001b[1;31m---------------------------------------------------------------------------\u001b[0m",
      "\u001b[1;31mIndexError\u001b[0m                                Traceback (most recent call last)",
      "Cell \u001b[1;32mIn[97], line 5\u001b[0m\n\u001b[0;32m      1\u001b[0m at_risk \u001b[38;5;241m=\u001b[39m comb_df[\n\u001b[0;32m      2\u001b[0m     (comb_df[\u001b[38;5;124m'\u001b[39m\u001b[38;5;124mActive Member\u001b[39m\u001b[38;5;124m'\u001b[39m] \u001b[38;5;241m==\u001b[39m \u001b[38;5;241m0\u001b[39m) \u001b[38;5;241m&\u001b[39m (comb_df[\u001b[38;5;124m'\u001b[39m\u001b[38;5;124mNumOfProducts\u001b[39m\u001b[38;5;124m'\u001b[39m] \u001b[38;5;241m<\u001b[39m\u001b[38;5;241m=\u001b[39m \u001b[38;5;241m1\u001b[39m)\n\u001b[0;32m      3\u001b[0m ]\n\u001b[0;32m      4\u001b[0m risk_value \u001b[38;5;241m=\u001b[39m at_risk\u001b[38;5;241m.\u001b[39mgroupby(\u001b[38;5;124m\"\u001b[39m\u001b[38;5;124mCredit_Score_Bracket\u001b[39m\u001b[38;5;124m\"\u001b[39m, observed\u001b[38;5;241m=\u001b[39m\u001b[38;5;28;01mTrue\u001b[39;00m)[\u001b[38;5;124m\"\u001b[39m\u001b[38;5;124mEstimatedSalary\u001b[39m\u001b[38;5;124m\"\u001b[39m]\u001b[38;5;241m.\u001b[39msum()\u001b[38;5;241m.\u001b[39msort_values(ascending\u001b[38;5;241m=\u001b[39m\u001b[38;5;28;01mFalse\u001b[39;00m)\n\u001b[1;32m----> 5\u001b[0m risk_value\u001b[38;5;241m.\u001b[39mplot(kind\u001b[38;5;241m=\u001b[39m\u001b[38;5;124m\"\u001b[39m\u001b[38;5;124mbar\u001b[39m\u001b[38;5;124m\"\u001b[39m, color\u001b[38;5;241m=\u001b[39m\u001b[38;5;124m\"\u001b[39m\u001b[38;5;124mblue\u001b[39m\u001b[38;5;124m\"\u001b[39m, alpha\u001b[38;5;241m=\u001b[39m\u001b[38;5;241m0.8\u001b[39m)\n\u001b[0;32m      7\u001b[0m plt\u001b[38;5;241m.\u001b[39mtitle(\u001b[38;5;124m\"\u001b[39m\u001b[38;5;124mFinancial Value at Risk by Credit Score Bracket\u001b[39m\u001b[38;5;124m\"\u001b[39m)\n\u001b[0;32m      8\u001b[0m plt\u001b[38;5;241m.\u001b[39mxlabel(\u001b[38;5;124m\"\u001b[39m\u001b[38;5;124mCredit Score Bracket\u001b[39m\u001b[38;5;124m\"\u001b[39m)\n",
      "File \u001b[1;32m~\\anaconda3\\Lib\\site-packages\\pandas\\plotting\\_core.py:1030\u001b[0m, in \u001b[0;36mPlotAccessor.__call__\u001b[1;34m(self, *args, **kwargs)\u001b[0m\n\u001b[0;32m   1027\u001b[0m             label_name \u001b[38;5;241m=\u001b[39m label_kw \u001b[38;5;129;01mor\u001b[39;00m data\u001b[38;5;241m.\u001b[39mcolumns\n\u001b[0;32m   1028\u001b[0m             data\u001b[38;5;241m.\u001b[39mcolumns \u001b[38;5;241m=\u001b[39m label_name\n\u001b[1;32m-> 1030\u001b[0m \u001b[38;5;28;01mreturn\u001b[39;00m plot_backend\u001b[38;5;241m.\u001b[39mplot(data, kind\u001b[38;5;241m=\u001b[39mkind, \u001b[38;5;241m*\u001b[39m\u001b[38;5;241m*\u001b[39mkwargs)\n",
      "File \u001b[1;32m~\\anaconda3\\Lib\\site-packages\\pandas\\plotting\\_matplotlib\\__init__.py:71\u001b[0m, in \u001b[0;36mplot\u001b[1;34m(data, kind, **kwargs)\u001b[0m\n\u001b[0;32m     69\u001b[0m         kwargs[\u001b[38;5;124m\"\u001b[39m\u001b[38;5;124max\u001b[39m\u001b[38;5;124m\"\u001b[39m] \u001b[38;5;241m=\u001b[39m \u001b[38;5;28mgetattr\u001b[39m(ax, \u001b[38;5;124m\"\u001b[39m\u001b[38;5;124mleft_ax\u001b[39m\u001b[38;5;124m\"\u001b[39m, ax)\n\u001b[0;32m     70\u001b[0m plot_obj \u001b[38;5;241m=\u001b[39m PLOT_CLASSES[kind](data, \u001b[38;5;241m*\u001b[39m\u001b[38;5;241m*\u001b[39mkwargs)\n\u001b[1;32m---> 71\u001b[0m plot_obj\u001b[38;5;241m.\u001b[39mgenerate()\n\u001b[0;32m     72\u001b[0m plot_obj\u001b[38;5;241m.\u001b[39mdraw()\n\u001b[0;32m     73\u001b[0m \u001b[38;5;28;01mreturn\u001b[39;00m plot_obj\u001b[38;5;241m.\u001b[39mresult\n",
      "File \u001b[1;32m~\\anaconda3\\Lib\\site-packages\\pandas\\plotting\\_matplotlib\\core.py:508\u001b[0m, in \u001b[0;36mMPLPlot.generate\u001b[1;34m(self)\u001b[0m\n\u001b[0;32m    506\u001b[0m \u001b[38;5;28;01mfor\u001b[39;00m ax \u001b[38;5;129;01min\u001b[39;00m \u001b[38;5;28mself\u001b[39m\u001b[38;5;241m.\u001b[39maxes:\n\u001b[0;32m    507\u001b[0m     \u001b[38;5;28mself\u001b[39m\u001b[38;5;241m.\u001b[39m_post_plot_logic_common(ax)\n\u001b[1;32m--> 508\u001b[0m     \u001b[38;5;28mself\u001b[39m\u001b[38;5;241m.\u001b[39m_post_plot_logic(ax, \u001b[38;5;28mself\u001b[39m\u001b[38;5;241m.\u001b[39mdata)\n",
      "File \u001b[1;32m~\\anaconda3\\Lib\\site-packages\\pandas\\plotting\\_matplotlib\\core.py:1966\u001b[0m, in \u001b[0;36mBarPlot._post_plot_logic\u001b[1;34m(self, ax, data)\u001b[0m\n\u001b[0;32m   1963\u001b[0m \u001b[38;5;28;01melse\u001b[39;00m:\n\u001b[0;32m   1964\u001b[0m     str_index \u001b[38;5;241m=\u001b[39m [pprint_thing(key) \u001b[38;5;28;01mfor\u001b[39;00m key \u001b[38;5;129;01min\u001b[39;00m \u001b[38;5;28mrange\u001b[39m(data\u001b[38;5;241m.\u001b[39mshape[\u001b[38;5;241m0\u001b[39m])]\n\u001b[1;32m-> 1966\u001b[0m s_edge \u001b[38;5;241m=\u001b[39m \u001b[38;5;28mself\u001b[39m\u001b[38;5;241m.\u001b[39max_pos[\u001b[38;5;241m0\u001b[39m] \u001b[38;5;241m-\u001b[39m \u001b[38;5;241m0.25\u001b[39m \u001b[38;5;241m+\u001b[39m \u001b[38;5;28mself\u001b[39m\u001b[38;5;241m.\u001b[39mlim_offset\n\u001b[0;32m   1967\u001b[0m e_edge \u001b[38;5;241m=\u001b[39m \u001b[38;5;28mself\u001b[39m\u001b[38;5;241m.\u001b[39max_pos[\u001b[38;5;241m-\u001b[39m\u001b[38;5;241m1\u001b[39m] \u001b[38;5;241m+\u001b[39m \u001b[38;5;241m0.25\u001b[39m \u001b[38;5;241m+\u001b[39m \u001b[38;5;28mself\u001b[39m\u001b[38;5;241m.\u001b[39mbar_width \u001b[38;5;241m+\u001b[39m \u001b[38;5;28mself\u001b[39m\u001b[38;5;241m.\u001b[39mlim_offset\n\u001b[0;32m   1969\u001b[0m \u001b[38;5;28mself\u001b[39m\u001b[38;5;241m.\u001b[39m_decorate_ticks(ax, \u001b[38;5;28mself\u001b[39m\u001b[38;5;241m.\u001b[39m_get_index_name(), str_index, s_edge, e_edge)\n",
      "\u001b[1;31mIndexError\u001b[0m: index 0 is out of bounds for axis 0 with size 0"
     ]
    },
    {
     "data": {
      "image/png": "[encoded data removed]",
      "text/plain": [
       "<Figure size 640x480 with 1 Axes>"
      ]
     },
     "metadata": {},
     "output_type": "display_data"
    }
   ],
   "source": [
    "at_risk = comb_df[\n",
    "    (comb_df['Active Member'] == 0) & (comb_df['NumOfProducts'] <= 1)\n",
    "]\n",
    "risk_value = at_risk.groupby(\"Credit_Score_Bracket\", observed=True)[\"EstimatedSalary\"].sum().sort_values(ascending=False)\n",
    "risk_value.plot(kind=\"bar\", color=\"blue\", alpha=0.8)\n",
    "\n",
    "plt.title(\"Financial Value at Risk by Credit Score Bracket\")\n",
    "plt.xlabel(\"Credit Score Bracket\")\n",
    "plt.ylabel(\"EstimatedSalary\")\n",
    "sb.despine()\n",
    "plt.show()"
   ]
  },
  {
   "cell_type": "code",
   "execution_count": null,
   "id": "1c9d6fb6-3117-465b-a6b2-1dedc9a9c558",
   "metadata": {},
   "outputs": [],
   "source": [
    "# 4. Optional: overall financial impact\n",
    "total_value_at_risk = at_risk[\"Balance\"].sum()\n",
    "print(f\"Total financial value at risk: ₦{total_value_at_risk:,.2f}\")"
   ]
  },
  {
   "cell_type": "code",
   "execution_count": null,
   "id": "ffb03d92-32a1-4c05-893f-8e94adcd0552",
   "metadata": {},
   "outputs": [],
   "source": []
  }
 ],
 "metadata": {
  "kernelspec": {
   "display_name": "Python [conda env:base] *",
   "language": "python",
   "name": "conda-base-py"
  },
  "language_info": {
   "codemirror_mode": {
    "name": "ipython",
    "version": 3
   },
   "file_extension": ".py",
   "mimetype": "text/x-python",
   "name": "python",
   "nbconvert_exporter": "python",
   "pygments_lexer": "ipython3",
   "version": "3.12.7"
  }
 },
 "nbformat": 4,
 "nbformat_minor": 5
}
